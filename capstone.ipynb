{
 "cells": [
  {
   "cell_type": "markdown",
   "metadata": {},
   "source": [
    "# Predicting the Severity of Vehicle Accidents in Seattle."
   ]
  },
  {
   "cell_type": "markdown",
   "metadata": {},
   "source": [
    "## Table of Content\n",
    "* [Introduction](#introduction)\n",
    "* [Exploratory Data Analysis](#EDA)\n",
    "* [Data Preprocessing](#data)\n",
    "* [Machine Learning Models](#ML)\n",
    "* [Model Evaluation](#ME)\n",
    "* [Discussion](#discuss)\n",
    "* [Policy Recommendation](#policy)\n",
    "* [Conclusion](#conclude)"
   ]
  },
  {
   "cell_type": "markdown",
   "metadata": {},
   "source": [
    "# Introduction <a name=\"introduction\"></a>"
   ]
  },
  {
   "cell_type": "markdown",
   "metadata": {},
   "source": [
    "The World Health Organisation (WHO) reports that about 20 to 50 million people suffer from non-fatal injuries from vehicle accidents globally every year. Some of the risk factors the WHO are speeding, driving under the influence of alcohol or other psychoactive substances, improper use of road safety equipment (helmet, seat belts etc.), distracting the driver, unsafe road infrastructure and so on. Also, the Center for Disease Control shows that every year in the United States, about 3 million people are involved in accidents that cause serious injury. In 2017, the cost to the US economy was huge at about \\$75billion in medical care cost and lost productivity from vehicle accidents alone. The Seattle Department of Transportation’s annual traffic report show that there were 10,959 vehicle-related accidents reported by the police in 2017. The impact of vehicle accident on the economy and citizen's lives and property make it of interest to stakeholders and the government.\n",
    "\n",
    "A comprehensive study that measures the risk factors and estimates how they predict the timing of road accidents will be of use to all parties involved. These include private citizens who bear the pain of the accidents; the cooperation and State government that bear the loss in productivity as a result of road accidents; and insurance companies that provide cover for road users. The objective of this project is to fill in the gap. Using data from road accidents in Seattle, we predict road accidents by considering some of the risk factors stated by the WHO and other factors provided by the police data on road accidents. The Washington State Department of Transport (WSDOT) reported that the common causes of accident specific to Seattle are speeding, intoxication, following cars too closely, defective equipment, poor vehicle maintenance and failure to yield right of way. The dataset we use to create a predictive model should measure these factors to a good extent to enable the algorithm learn and predict car accidents in out-of-sample data.\n",
    "\n",
    "The remaining section of the project will introduce and explore the data, discuss the machine learning models implemented in the analysis, conduct test on the accuracy of models and recommend the best prediction model. Lastly, I provide some policy recommendations based on findings and conclude."
   ]
  },
  {
   "cell_type": "code",
   "execution_count": 26,
   "metadata": {},
   "outputs": [],
   "source": [
    "import pandas as pd\n",
    "import numpy as np\n",
    "from sklearn.feature_selection import SelectKBest\n",
    "from sklearn.feature_selection import  f_regression\n",
    "import seaborn as sns\n",
    "import matplotlib.pyplot as plt"
   ]
  },
  {
   "cell_type": "code",
   "execution_count": 27,
   "metadata": {},
   "outputs": [
    {
     "name": "stderr",
     "output_type": "stream",
     "text": [
      "/home/jupyterlab/conda/envs/python/lib/python3.6/site-packages/IPython/core/interactiveshell.py:3072: DtypeWarning: Columns (33) have mixed types.Specify dtype option on import or set low_memory=False.\n",
      "  interactivity=interactivity, compiler=compiler, result=result)\n"
     ]
    }
   ],
   "source": [
    "#Loading the dataset \n",
    "df = pd.read_csv('Data-Collisions.csv')"
   ]
  },
  {
   "cell_type": "code",
   "execution_count": 28,
   "metadata": {},
   "outputs": [
    {
     "data": {
      "text/html": [
       "<div>\n",
       "<style scoped>\n",
       "    .dataframe tbody tr th:only-of-type {\n",
       "        vertical-align: middle;\n",
       "    }\n",
       "\n",
       "    .dataframe tbody tr th {\n",
       "        vertical-align: top;\n",
       "    }\n",
       "\n",
       "    .dataframe thead th {\n",
       "        text-align: right;\n",
       "    }\n",
       "</style>\n",
       "<table border=\"1\" class=\"dataframe\">\n",
       "  <thead>\n",
       "    <tr style=\"text-align: right;\">\n",
       "      <th></th>\n",
       "      <th>SEVERITYCODE</th>\n",
       "      <th>X</th>\n",
       "      <th>Y</th>\n",
       "      <th>OBJECTID</th>\n",
       "      <th>INCKEY</th>\n",
       "      <th>COLDETKEY</th>\n",
       "      <th>REPORTNO</th>\n",
       "      <th>STATUS</th>\n",
       "      <th>ADDRTYPE</th>\n",
       "      <th>INTKEY</th>\n",
       "      <th>...</th>\n",
       "      <th>ROADCOND</th>\n",
       "      <th>LIGHTCOND</th>\n",
       "      <th>PEDROWNOTGRNT</th>\n",
       "      <th>SDOTCOLNUM</th>\n",
       "      <th>SPEEDING</th>\n",
       "      <th>ST_COLCODE</th>\n",
       "      <th>ST_COLDESC</th>\n",
       "      <th>SEGLANEKEY</th>\n",
       "      <th>CROSSWALKKEY</th>\n",
       "      <th>HITPARKEDCAR</th>\n",
       "    </tr>\n",
       "  </thead>\n",
       "  <tbody>\n",
       "    <tr>\n",
       "      <th>0</th>\n",
       "      <td>2</td>\n",
       "      <td>-122.323148</td>\n",
       "      <td>47.703140</td>\n",
       "      <td>1</td>\n",
       "      <td>1307</td>\n",
       "      <td>1307</td>\n",
       "      <td>3502005</td>\n",
       "      <td>Matched</td>\n",
       "      <td>Intersection</td>\n",
       "      <td>37475.0</td>\n",
       "      <td>...</td>\n",
       "      <td>Wet</td>\n",
       "      <td>Daylight</td>\n",
       "      <td>NaN</td>\n",
       "      <td>NaN</td>\n",
       "      <td>NaN</td>\n",
       "      <td>10</td>\n",
       "      <td>Entering at angle</td>\n",
       "      <td>0</td>\n",
       "      <td>0</td>\n",
       "      <td>N</td>\n",
       "    </tr>\n",
       "    <tr>\n",
       "      <th>1</th>\n",
       "      <td>1</td>\n",
       "      <td>-122.347294</td>\n",
       "      <td>47.647172</td>\n",
       "      <td>2</td>\n",
       "      <td>52200</td>\n",
       "      <td>52200</td>\n",
       "      <td>2607959</td>\n",
       "      <td>Matched</td>\n",
       "      <td>Block</td>\n",
       "      <td>NaN</td>\n",
       "      <td>...</td>\n",
       "      <td>Wet</td>\n",
       "      <td>Dark - Street Lights On</td>\n",
       "      <td>NaN</td>\n",
       "      <td>6354039.0</td>\n",
       "      <td>NaN</td>\n",
       "      <td>11</td>\n",
       "      <td>From same direction - both going straight - bo...</td>\n",
       "      <td>0</td>\n",
       "      <td>0</td>\n",
       "      <td>N</td>\n",
       "    </tr>\n",
       "    <tr>\n",
       "      <th>2</th>\n",
       "      <td>1</td>\n",
       "      <td>-122.334540</td>\n",
       "      <td>47.607871</td>\n",
       "      <td>3</td>\n",
       "      <td>26700</td>\n",
       "      <td>26700</td>\n",
       "      <td>1482393</td>\n",
       "      <td>Matched</td>\n",
       "      <td>Block</td>\n",
       "      <td>NaN</td>\n",
       "      <td>...</td>\n",
       "      <td>Dry</td>\n",
       "      <td>Daylight</td>\n",
       "      <td>NaN</td>\n",
       "      <td>4323031.0</td>\n",
       "      <td>NaN</td>\n",
       "      <td>32</td>\n",
       "      <td>One parked--one moving</td>\n",
       "      <td>0</td>\n",
       "      <td>0</td>\n",
       "      <td>N</td>\n",
       "    </tr>\n",
       "    <tr>\n",
       "      <th>3</th>\n",
       "      <td>1</td>\n",
       "      <td>-122.334803</td>\n",
       "      <td>47.604803</td>\n",
       "      <td>4</td>\n",
       "      <td>1144</td>\n",
       "      <td>1144</td>\n",
       "      <td>3503937</td>\n",
       "      <td>Matched</td>\n",
       "      <td>Block</td>\n",
       "      <td>NaN</td>\n",
       "      <td>...</td>\n",
       "      <td>Dry</td>\n",
       "      <td>Daylight</td>\n",
       "      <td>NaN</td>\n",
       "      <td>NaN</td>\n",
       "      <td>NaN</td>\n",
       "      <td>23</td>\n",
       "      <td>From same direction - all others</td>\n",
       "      <td>0</td>\n",
       "      <td>0</td>\n",
       "      <td>N</td>\n",
       "    </tr>\n",
       "    <tr>\n",
       "      <th>4</th>\n",
       "      <td>2</td>\n",
       "      <td>-122.306426</td>\n",
       "      <td>47.545739</td>\n",
       "      <td>5</td>\n",
       "      <td>17700</td>\n",
       "      <td>17700</td>\n",
       "      <td>1807429</td>\n",
       "      <td>Matched</td>\n",
       "      <td>Intersection</td>\n",
       "      <td>34387.0</td>\n",
       "      <td>...</td>\n",
       "      <td>Wet</td>\n",
       "      <td>Daylight</td>\n",
       "      <td>NaN</td>\n",
       "      <td>4028032.0</td>\n",
       "      <td>NaN</td>\n",
       "      <td>10</td>\n",
       "      <td>Entering at angle</td>\n",
       "      <td>0</td>\n",
       "      <td>0</td>\n",
       "      <td>N</td>\n",
       "    </tr>\n",
       "  </tbody>\n",
       "</table>\n",
       "<p>5 rows × 38 columns</p>\n",
       "</div>"
      ],
      "text/plain": [
       "   SEVERITYCODE           X          Y  OBJECTID  INCKEY  COLDETKEY REPORTNO  \\\n",
       "0             2 -122.323148  47.703140         1    1307       1307  3502005   \n",
       "1             1 -122.347294  47.647172         2   52200      52200  2607959   \n",
       "2             1 -122.334540  47.607871         3   26700      26700  1482393   \n",
       "3             1 -122.334803  47.604803         4    1144       1144  3503937   \n",
       "4             2 -122.306426  47.545739         5   17700      17700  1807429   \n",
       "\n",
       "    STATUS      ADDRTYPE   INTKEY  ... ROADCOND                LIGHTCOND  \\\n",
       "0  Matched  Intersection  37475.0  ...      Wet                 Daylight   \n",
       "1  Matched         Block      NaN  ...      Wet  Dark - Street Lights On   \n",
       "2  Matched         Block      NaN  ...      Dry                 Daylight   \n",
       "3  Matched         Block      NaN  ...      Dry                 Daylight   \n",
       "4  Matched  Intersection  34387.0  ...      Wet                 Daylight   \n",
       "\n",
       "  PEDROWNOTGRNT  SDOTCOLNUM SPEEDING ST_COLCODE  \\\n",
       "0           NaN         NaN      NaN         10   \n",
       "1           NaN   6354039.0      NaN         11   \n",
       "2           NaN   4323031.0      NaN         32   \n",
       "3           NaN         NaN      NaN         23   \n",
       "4           NaN   4028032.0      NaN         10   \n",
       "\n",
       "                                          ST_COLDESC  SEGLANEKEY  \\\n",
       "0                                  Entering at angle           0   \n",
       "1  From same direction - both going straight - bo...           0   \n",
       "2                             One parked--one moving           0   \n",
       "3                   From same direction - all others           0   \n",
       "4                                  Entering at angle           0   \n",
       "\n",
       "   CROSSWALKKEY  HITPARKEDCAR  \n",
       "0             0             N  \n",
       "1             0             N  \n",
       "2             0             N  \n",
       "3             0             N  \n",
       "4             0             N  \n",
       "\n",
       "[5 rows x 38 columns]"
      ]
     },
     "execution_count": 28,
     "metadata": {},
     "output_type": "execute_result"
    }
   ],
   "source": [
    "df.head()"
   ]
  },
  {
   "cell_type": "code",
   "execution_count": 29,
   "metadata": {},
   "outputs": [
    {
     "name": "stdout",
     "output_type": "stream",
     "text": [
      "Index(['SEVERITYCODE', 'X', 'Y', 'OBJECTID', 'INCKEY', 'COLDETKEY', 'REPORTNO',\n",
      "       'STATUS', 'ADDRTYPE', 'INTKEY', 'LOCATION', 'EXCEPTRSNCODE',\n",
      "       'EXCEPTRSNDESC', 'SEVERITYCODE.1', 'SEVERITYDESC', 'COLLISIONTYPE',\n",
      "       'PERSONCOUNT', 'PEDCOUNT', 'PEDCYLCOUNT', 'VEHCOUNT', 'INCDATE',\n",
      "       'INCDTTM', 'JUNCTIONTYPE', 'SDOT_COLCODE', 'SDOT_COLDESC',\n",
      "       'INATTENTIONIND', 'UNDERINFL', 'WEATHER', 'ROADCOND', 'LIGHTCOND',\n",
      "       'PEDROWNOTGRNT', 'SDOTCOLNUM', 'SPEEDING', 'ST_COLCODE', 'ST_COLDESC',\n",
      "       'SEGLANEKEY', 'CROSSWALKKEY', 'HITPARKEDCAR'],\n",
      "      dtype='object')\n",
      "The Dimension of the dataset is  (194673, 38)\n"
     ]
    }
   ],
   "source": [
    "print(df.columns)\n",
    "print('The Dimension of the dataset is ', df.shape)"
   ]
  },
  {
   "cell_type": "markdown",
   "metadata": {},
   "source": [
    "# Exploratory Data Analysis <a name=\"EDA\"></a>"
   ]
  },
  {
   "cell_type": "markdown",
   "metadata": {},
   "source": [
    "In the exploration, I will discuss some of the pertinent features suggested by the World Health Organisation (WHO) and understand how they interact to determine accident severity. It is important to understand that the variable of interest is whether the accident resulted in the destruction of property or injury of a person. We should expect that the factors that determine these closely related outcomes will involve interaction between features. It is also worth noting that most of the features are categorical, therefore, the most appropriate way to have a first view of the data is using bar charts."
   ]
  },
  {
   "cell_type": "code",
   "execution_count": 30,
   "metadata": {},
   "outputs": [
    {
     "data": {
      "text/plain": [
       "SEVERITYCODE  SEVERITYDESC                  \n",
       "1             Property Damage Only Collision    1.0\n",
       "2             Injury Collision                  1.0\n",
       "Name: SEVERITYDESC, dtype: float64"
      ]
     },
     "execution_count": 30,
     "metadata": {},
     "output_type": "execute_result"
    }
   ],
   "source": [
    "df.groupby(['SEVERITYCODE'])['SEVERITYDESC'].value_counts(normalize=True) "
   ]
  },
  {
   "cell_type": "code",
   "execution_count": 31,
   "metadata": {},
   "outputs": [
    {
     "data": {
      "text/plain": [
       "SEVERITYCODE  WEATHER                 \n",
       "1             Clear                       75295\n",
       "              Raining                     21969\n",
       "              Overcast                    18969\n",
       "              Unknown                     14275\n",
       "              Snowing                       736\n",
       "              Other                         716\n",
       "              Fog/Smog/Smoke                382\n",
       "              Sleet/Hail/Freezing Rain       85\n",
       "              Blowing Sand/Dirt              41\n",
       "              Severe Crosswind               18\n",
       "              Partly Cloudy                   2\n",
       "2             Clear                       35840\n",
       "              Raining                     11176\n",
       "              Overcast                     8745\n",
       "              Unknown                       816\n",
       "              Fog/Smog/Smoke                187\n",
       "              Snowing                       171\n",
       "              Other                         116\n",
       "              Sleet/Hail/Freezing Rain       28\n",
       "              Blowing Sand/Dirt              15\n",
       "              Severe Crosswind                7\n",
       "              Partly Cloudy                   3\n",
       "Name: WEATHER, dtype: int64"
      ]
     },
     "execution_count": 31,
     "metadata": {},
     "output_type": "execute_result"
    }
   ],
   "source": [
    "df.groupby(['SEVERITYCODE']).WEATHER.value_counts()"
   ]
  },
  {
   "cell_type": "code",
   "execution_count": 32,
   "metadata": {},
   "outputs": [
    {
     "data": {
      "image/png": "[encoded data removed]",
      "text/plain": [
       "<Figure size 504x504 with 1 Axes>"
      ]
     },
     "metadata": {
      "needs_background": "light"
     },
     "output_type": "display_data"
    }
   ],
   "source": [
    "df['WEATHER'].value_counts().plot(kind='barh', figsize = (7, 7))\n",
    "plt.title('Accidents Under Varying Weather Conditions')\n",
    "plt.savefig('weather.jpg', bbox_inches = 'tight')"
   ]
  },
  {
   "cell_type": "code",
   "execution_count": 33,
   "metadata": {},
   "outputs": [],
   "source": [
    "df['UNDERINFL'].value_counts()\n",
    "df['UNDERINFL'].replace(to_replace = ['N', 'Y'], value = [0, 1], inplace = True)\n",
    "df['UNDERINFL'] = pd.to_numeric(df['UNDERINFL'], errors='coerce')\n",
    "df = df.dropna(subset=['UNDERINFL'])\n",
    "df['UNDERINFL'] = df['UNDERINFL'].dropna()\n",
    "df['UNDERINFL'] = df['UNDERINFL'].astype(int)"
   ]
  },
  {
   "cell_type": "code",
   "execution_count": 34,
   "metadata": {},
   "outputs": [
    {
     "data": {
      "image/png": "[encoded data removed]",
      "text/plain": [
       "<Figure size 1440x576 with 1 Axes>"
      ]
     },
     "metadata": {
      "needs_background": "light"
     },
     "output_type": "display_data"
    }
   ],
   "source": [
    "plt.figure(figsize=(20,8))\n",
    "g = sns.barplot(x='LIGHTCOND', y='UNDERINFL', hue='SEVERITYCODE', data = df[df['WEATHER']=='Clear'])\n",
    "#plt.show()\n",
    "plt.title('Driving Under the Influence at Varying Light Conditions in Clear Weather')\n",
    "plt.ylabel('Under the Influence')\n",
    "plt.xlabel('Light Conditions')\n",
    "plt.savefig('li_un_wet.jpg', bbox_inches = 'tight')"
   ]
  },
  {
   "cell_type": "code",
   "execution_count": 35,
   "metadata": {},
   "outputs": [],
   "source": [
    "df['SPEEDING'] = df['SPEEDING'].fillna('N')\n",
    "df['SPEEDING'].replace(to_replace = ['N', 'Y'], value = [0, 1], inplace = True)"
   ]
  },
  {
   "cell_type": "code",
   "execution_count": 36,
   "metadata": {},
   "outputs": [
    {
     "data": {
      "image/png": "[encoded data removed]",
      "text/plain": [
       "<Figure size 1152x576 with 1 Axes>"
      ]
     },
     "metadata": {
      "needs_background": "light"
     },
     "output_type": "display_data"
    }
   ],
   "source": [
    "plt.figure(figsize=(16,8))\n",
    "g = sns.barplot(x='LIGHTCOND', y='SPEEDING', hue='SEVERITYCODE', data = df[df['WEATHER']=='Clear'])\n",
    "plt.title('Speeding at Varying Light Conditions in Clear Weather')\n",
    "plt.ylabel('Speeding')\n",
    "plt.xlabel('Light Conditions')\n",
    "#plt.show()\n",
    "plt.savefig('li_sp_wet.jpg', bbox_inches = 'tight')"
   ]
  },
  {
   "cell_type": "code",
   "execution_count": 37,
   "metadata": {},
   "outputs": [
    {
     "data": {
      "image/png": "[encoded data removed]",
      "text/plain": [
       "<Figure size 504x576 with 1 Axes>"
      ]
     },
     "metadata": {
      "needs_background": "light"
     },
     "output_type": "display_data"
    }
   ],
   "source": [
    "plt.figure(figsize=(7,8))\n",
    "g = sns.barplot(x='UNDERINFL', y='SPEEDING', hue = 'SEVERITYCODE', data = df)\n",
    "plt.title('Speeding Under the Influence')\n",
    "plt.ylabel('Speeding')\n",
    "plt.xlabel('Under the Influence')\n",
    "#plt.show()\n",
    "plt.savefig('un_sp_sev.jpg', bbox_inches = 'tight')"
   ]
  },
  {
   "cell_type": "code",
   "execution_count": 38,
   "metadata": {},
   "outputs": [
    {
     "data": {
      "text/plain": [
       "<Figure size 432x504 with 0 Axes>"
      ]
     },
     "metadata": {},
     "output_type": "display_data"
    },
    {
     "data": {
      "image/png": "[encoded data removed]",
      "text/plain": [
       "<Figure size 1523.5x360 with 4 Axes>"
      ]
     },
     "metadata": {
      "needs_background": "light"
     },
     "output_type": "display_data"
    }
   ],
   "source": [
    "plt.figure(figsize=(6,7))\n",
    "g = sns.catplot(x='UNDERINFL', y='SPEEDING', hue='SEVERITYCODE', col='LIGHTCOND', kind='bar', data = df[df['LIGHTCOND'].str.contains('Dark')==True])\n",
    "g.fig.subplots_adjust(top=0.85)\n",
    "g.fig.suptitle('Speeding Under the Influence in the Dark')\n",
    "plt.xlabel('Under the Influence')\n",
    "plt.ylabel('Speeding')\n",
    "#plt.show()\n",
    "plt.savefig('un_sp_sev_lig.jpg', bbox_inches = 'tight')"
   ]
  },
  {
   "cell_type": "code",
   "execution_count": 39,
   "metadata": {},
   "outputs": [
    {
     "name": "stderr",
     "output_type": "stream",
     "text": [
      "/home/jupyterlab/conda/envs/python/lib/python3.6/site-packages/seaborn/axisgrid.py:715: UserWarning: Using the countplot function without specifying `order` is likely to produce an incorrect plot.\n",
      "  warnings.warn(warning)\n"
     ]
    },
    {
     "data": {
      "image/png": "[encoded data removed]",
      "text/plain": [
       "<Figure size 432x216 with 2 Axes>"
      ]
     },
     "metadata": {
      "needs_background": "light"
     },
     "output_type": "display_data"
    }
   ],
   "source": [
    "bins = np.linspace(df.VEHCOUNT.min(), df.VEHCOUNT.max(), 10)\n",
    "g = sns.FacetGrid(df, col=\"UNDERINFL\", hue='SEVERITYCODE', palette=\"Set1\", col_wrap=2)\n",
    "g.map(sns.countplot, 'VEHCOUNT', ec=\"k\")\n",
    "g.fig.subplots_adjust(top=0.8)\n",
    "g.fig.suptitle('Number of Vehicle Involved When Driving Under the Influence')\n",
    "g.axes[-1].legend()\n",
    "#plt.show()\n",
    "plt.savefig('un_sev_hist.jpg', bbox_inches = 'tight')"
   ]
  },
  {
   "cell_type": "code",
   "execution_count": 40,
   "metadata": {},
   "outputs": [
    {
     "data": {
      "image/png": "[encoded data removed]",
      "text/plain": [
       "<Figure size 432x216 with 2 Axes>"
      ]
     },
     "metadata": {
      "needs_background": "light"
     },
     "output_type": "display_data"
    }
   ],
   "source": [
    "bins = np.linspace(df.VEHCOUNT.min(), df.VEHCOUNT.max(), 10)\n",
    "g = sns.FacetGrid(df, col=\"SPEEDING\", hue='SEVERITYCODE', palette=\"Set1\", col_wrap=2)\n",
    "g.map(sns.countplot, 'VEHCOUNT', ec=\"k\")\n",
    "g.fig.subplots_adjust(top=0.8)\n",
    "g.fig.suptitle('Number of Vehicle Involved When Speeding')\n",
    "g.axes[-1].legend()\n",
    "#plt.show()\n",
    "plt.savefig('sp_sev_hist.jpg', bbox_inches = 'tight')"
   ]
  },
  {
   "cell_type": "markdown",
   "metadata": {},
   "source": [
    "## Data Preprocessing <a name=\"data\"></a>"
   ]
  },
  {
   "cell_type": "markdown",
   "metadata": {},
   "source": [
    "This section discusses the transformation of categorical features in the dataset. I use three methods of categorical variable encoding that suits the feature based on the number of levels in the variable. The methods executed as follows :-"
   ]
  },
  {
   "cell_type": "code",
   "execution_count": 41,
   "metadata": {},
   "outputs": [
    {
     "data": {
      "text/html": [
       "<div>\n",
       "<style scoped>\n",
       "    .dataframe tbody tr th:only-of-type {\n",
       "        vertical-align: middle;\n",
       "    }\n",
       "\n",
       "    .dataframe tbody tr th {\n",
       "        vertical-align: top;\n",
       "    }\n",
       "\n",
       "    .dataframe thead th {\n",
       "        text-align: right;\n",
       "    }\n",
       "</style>\n",
       "<table border=\"1\" class=\"dataframe\">\n",
       "  <thead>\n",
       "    <tr style=\"text-align: right;\">\n",
       "      <th></th>\n",
       "      <th>SEVERITYCODE</th>\n",
       "      <th>SEVERITYDESC</th>\n",
       "      <th>LOCATION</th>\n",
       "      <th>ADDRTYPE</th>\n",
       "      <th>COLLISIONTYPE</th>\n",
       "      <th>PERSONCOUNT</th>\n",
       "      <th>VEHCOUNT</th>\n",
       "      <th>JUNCTIONTYPE</th>\n",
       "      <th>UNDERINFL</th>\n",
       "      <th>WEATHER</th>\n",
       "      <th>ROADCOND</th>\n",
       "      <th>LIGHTCOND</th>\n",
       "      <th>SPEEDING</th>\n",
       "      <th>ST_COLDESC</th>\n",
       "      <th>HITPARKEDCAR</th>\n",
       "    </tr>\n",
       "  </thead>\n",
       "  <tbody>\n",
       "    <tr>\n",
       "      <th>0</th>\n",
       "      <td>2</td>\n",
       "      <td>Injury Collision</td>\n",
       "      <td>5TH AVE NE AND NE 103RD ST</td>\n",
       "      <td>Intersection</td>\n",
       "      <td>Angles</td>\n",
       "      <td>2</td>\n",
       "      <td>2</td>\n",
       "      <td>At Intersection (intersection related)</td>\n",
       "      <td>0</td>\n",
       "      <td>Overcast</td>\n",
       "      <td>Wet</td>\n",
       "      <td>Daylight</td>\n",
       "      <td>0</td>\n",
       "      <td>Entering at angle</td>\n",
       "      <td>N</td>\n",
       "    </tr>\n",
       "    <tr>\n",
       "      <th>1</th>\n",
       "      <td>1</td>\n",
       "      <td>Property Damage Only Collision</td>\n",
       "      <td>AURORA BR BETWEEN RAYE ST AND BRIDGE WAY N</td>\n",
       "      <td>Block</td>\n",
       "      <td>Sideswipe</td>\n",
       "      <td>2</td>\n",
       "      <td>2</td>\n",
       "      <td>Mid-Block (not related to intersection)</td>\n",
       "      <td>0</td>\n",
       "      <td>Raining</td>\n",
       "      <td>Wet</td>\n",
       "      <td>Dark - Street Lights On</td>\n",
       "      <td>0</td>\n",
       "      <td>From same direction - both going straight - bo...</td>\n",
       "      <td>N</td>\n",
       "    </tr>\n",
       "    <tr>\n",
       "      <th>2</th>\n",
       "      <td>1</td>\n",
       "      <td>Property Damage Only Collision</td>\n",
       "      <td>4TH AVE BETWEEN SENECA ST AND UNIVERSITY ST</td>\n",
       "      <td>Block</td>\n",
       "      <td>Parked Car</td>\n",
       "      <td>4</td>\n",
       "      <td>3</td>\n",
       "      <td>Mid-Block (not related to intersection)</td>\n",
       "      <td>0</td>\n",
       "      <td>Overcast</td>\n",
       "      <td>Dry</td>\n",
       "      <td>Daylight</td>\n",
       "      <td>0</td>\n",
       "      <td>One parked--one moving</td>\n",
       "      <td>N</td>\n",
       "    </tr>\n",
       "    <tr>\n",
       "      <th>3</th>\n",
       "      <td>1</td>\n",
       "      <td>Property Damage Only Collision</td>\n",
       "      <td>2ND AVE BETWEEN MARION ST AND MADISON ST</td>\n",
       "      <td>Block</td>\n",
       "      <td>Other</td>\n",
       "      <td>3</td>\n",
       "      <td>3</td>\n",
       "      <td>Mid-Block (not related to intersection)</td>\n",
       "      <td>0</td>\n",
       "      <td>Clear</td>\n",
       "      <td>Dry</td>\n",
       "      <td>Daylight</td>\n",
       "      <td>0</td>\n",
       "      <td>From same direction - all others</td>\n",
       "      <td>N</td>\n",
       "    </tr>\n",
       "    <tr>\n",
       "      <th>4</th>\n",
       "      <td>2</td>\n",
       "      <td>Injury Collision</td>\n",
       "      <td>SWIFT AVE S AND SWIFT AV OFF RP</td>\n",
       "      <td>Intersection</td>\n",
       "      <td>Angles</td>\n",
       "      <td>2</td>\n",
       "      <td>2</td>\n",
       "      <td>At Intersection (intersection related)</td>\n",
       "      <td>0</td>\n",
       "      <td>Raining</td>\n",
       "      <td>Wet</td>\n",
       "      <td>Daylight</td>\n",
       "      <td>0</td>\n",
       "      <td>Entering at angle</td>\n",
       "      <td>N</td>\n",
       "    </tr>\n",
       "  </tbody>\n",
       "</table>\n",
       "</div>"
      ],
      "text/plain": [
       "   SEVERITYCODE                    SEVERITYDESC  \\\n",
       "0             2                Injury Collision   \n",
       "1             1  Property Damage Only Collision   \n",
       "2             1  Property Damage Only Collision   \n",
       "3             1  Property Damage Only Collision   \n",
       "4             2                Injury Collision   \n",
       "\n",
       "                                      LOCATION      ADDRTYPE COLLISIONTYPE  \\\n",
       "0                   5TH AVE NE AND NE 103RD ST  Intersection        Angles   \n",
       "1   AURORA BR BETWEEN RAYE ST AND BRIDGE WAY N         Block     Sideswipe   \n",
       "2  4TH AVE BETWEEN SENECA ST AND UNIVERSITY ST         Block    Parked Car   \n",
       "3     2ND AVE BETWEEN MARION ST AND MADISON ST         Block         Other   \n",
       "4              SWIFT AVE S AND SWIFT AV OFF RP  Intersection        Angles   \n",
       "\n",
       "   PERSONCOUNT  VEHCOUNT                             JUNCTIONTYPE  UNDERINFL  \\\n",
       "0            2         2   At Intersection (intersection related)          0   \n",
       "1            2         2  Mid-Block (not related to intersection)          0   \n",
       "2            4         3  Mid-Block (not related to intersection)          0   \n",
       "3            3         3  Mid-Block (not related to intersection)          0   \n",
       "4            2         2   At Intersection (intersection related)          0   \n",
       "\n",
       "    WEATHER ROADCOND                LIGHTCOND  SPEEDING  \\\n",
       "0  Overcast      Wet                 Daylight         0   \n",
       "1   Raining      Wet  Dark - Street Lights On         0   \n",
       "2  Overcast      Dry                 Daylight         0   \n",
       "3     Clear      Dry                 Daylight         0   \n",
       "4   Raining      Wet                 Daylight         0   \n",
       "\n",
       "                                          ST_COLDESC HITPARKEDCAR  \n",
       "0                                  Entering at angle            N  \n",
       "1  From same direction - both going straight - bo...            N  \n",
       "2                             One parked--one moving            N  \n",
       "3                   From same direction - all others            N  \n",
       "4                                  Entering at angle            N  "
      ]
     },
     "execution_count": 41,
     "metadata": {},
     "output_type": "execute_result"
    }
   ],
   "source": [
    "col_df = df[['SEVERITYCODE', 'SEVERITYDESC', 'LOCATION', 'ADDRTYPE', 'COLLISIONTYPE', 'PERSONCOUNT', 'VEHCOUNT', 'JUNCTIONTYPE', 'UNDERINFL', 'WEATHER', 'ROADCOND', 'LIGHTCOND', 'SPEEDING', 'ST_COLDESC', 'HITPARKEDCAR']]\n",
    "col_df.head()"
   ]
  },
  {
   "cell_type": "code",
   "execution_count": 42,
   "metadata": {},
   "outputs": [
    {
     "name": "stderr",
     "output_type": "stream",
     "text": [
      "/home/jupyterlab/conda/envs/python/lib/python3.6/site-packages/pandas/core/generic.py:6746: SettingWithCopyWarning: \n",
      "A value is trying to be set on a copy of a slice from a DataFrame\n",
      "\n",
      "See the caveats in the documentation: https://pandas.pydata.org/pandas-docs/stable/user_guide/indexing.html#returning-a-view-versus-a-copy\n",
      "  self._update_inplace(new_data)\n"
     ]
    },
    {
     "data": {
      "text/html": [
       "<div>\n",
       "<style scoped>\n",
       "    .dataframe tbody tr th:only-of-type {\n",
       "        vertical-align: middle;\n",
       "    }\n",
       "\n",
       "    .dataframe tbody tr th {\n",
       "        vertical-align: top;\n",
       "    }\n",
       "\n",
       "    .dataframe thead th {\n",
       "        text-align: right;\n",
       "    }\n",
       "</style>\n",
       "<table border=\"1\" class=\"dataframe\">\n",
       "  <thead>\n",
       "    <tr style=\"text-align: right;\">\n",
       "      <th></th>\n",
       "      <th>SEVERITYCODE</th>\n",
       "      <th>SEVERITYDESC</th>\n",
       "      <th>LOCATION</th>\n",
       "      <th>ADDRTYPE</th>\n",
       "      <th>COLLISIONTYPE</th>\n",
       "      <th>PERSONCOUNT</th>\n",
       "      <th>VEHCOUNT</th>\n",
       "      <th>JUNCTIONTYPE</th>\n",
       "      <th>UNDERINFL</th>\n",
       "      <th>WEATHER</th>\n",
       "      <th>ROADCOND</th>\n",
       "      <th>LIGHTCOND</th>\n",
       "      <th>SPEEDING</th>\n",
       "      <th>ST_COLDESC</th>\n",
       "      <th>HITPARKEDCAR</th>\n",
       "    </tr>\n",
       "  </thead>\n",
       "  <tbody>\n",
       "    <tr>\n",
       "      <th>0</th>\n",
       "      <td>1</td>\n",
       "      <td>Injury Collision</td>\n",
       "      <td>5TH AVE NE AND NE 103RD ST</td>\n",
       "      <td>Intersection</td>\n",
       "      <td>Angles</td>\n",
       "      <td>2</td>\n",
       "      <td>2</td>\n",
       "      <td>At Intersection (intersection related)</td>\n",
       "      <td>0</td>\n",
       "      <td>Overcast</td>\n",
       "      <td>Wet</td>\n",
       "      <td>Daylight</td>\n",
       "      <td>0</td>\n",
       "      <td>Entering at angle</td>\n",
       "      <td>N</td>\n",
       "    </tr>\n",
       "    <tr>\n",
       "      <th>1</th>\n",
       "      <td>0</td>\n",
       "      <td>Property Damage Only Collision</td>\n",
       "      <td>AURORA BR BETWEEN RAYE ST AND BRIDGE WAY N</td>\n",
       "      <td>Block</td>\n",
       "      <td>Sideswipe</td>\n",
       "      <td>2</td>\n",
       "      <td>2</td>\n",
       "      <td>Mid-Block (not related to intersection)</td>\n",
       "      <td>0</td>\n",
       "      <td>Raining</td>\n",
       "      <td>Wet</td>\n",
       "      <td>Dark - Street Lights On</td>\n",
       "      <td>0</td>\n",
       "      <td>From same direction - both going straight - bo...</td>\n",
       "      <td>N</td>\n",
       "    </tr>\n",
       "    <tr>\n",
       "      <th>2</th>\n",
       "      <td>0</td>\n",
       "      <td>Property Damage Only Collision</td>\n",
       "      <td>4TH AVE BETWEEN SENECA ST AND UNIVERSITY ST</td>\n",
       "      <td>Block</td>\n",
       "      <td>Parked Car</td>\n",
       "      <td>4</td>\n",
       "      <td>3</td>\n",
       "      <td>Mid-Block (not related to intersection)</td>\n",
       "      <td>0</td>\n",
       "      <td>Overcast</td>\n",
       "      <td>Dry</td>\n",
       "      <td>Daylight</td>\n",
       "      <td>0</td>\n",
       "      <td>One parked--one moving</td>\n",
       "      <td>N</td>\n",
       "    </tr>\n",
       "    <tr>\n",
       "      <th>3</th>\n",
       "      <td>0</td>\n",
       "      <td>Property Damage Only Collision</td>\n",
       "      <td>2ND AVE BETWEEN MARION ST AND MADISON ST</td>\n",
       "      <td>Block</td>\n",
       "      <td>Other</td>\n",
       "      <td>3</td>\n",
       "      <td>3</td>\n",
       "      <td>Mid-Block (not related to intersection)</td>\n",
       "      <td>0</td>\n",
       "      <td>Clear</td>\n",
       "      <td>Dry</td>\n",
       "      <td>Daylight</td>\n",
       "      <td>0</td>\n",
       "      <td>From same direction - all others</td>\n",
       "      <td>N</td>\n",
       "    </tr>\n",
       "    <tr>\n",
       "      <th>4</th>\n",
       "      <td>1</td>\n",
       "      <td>Injury Collision</td>\n",
       "      <td>SWIFT AVE S AND SWIFT AV OFF RP</td>\n",
       "      <td>Intersection</td>\n",
       "      <td>Angles</td>\n",
       "      <td>2</td>\n",
       "      <td>2</td>\n",
       "      <td>At Intersection (intersection related)</td>\n",
       "      <td>0</td>\n",
       "      <td>Raining</td>\n",
       "      <td>Wet</td>\n",
       "      <td>Daylight</td>\n",
       "      <td>0</td>\n",
       "      <td>Entering at angle</td>\n",
       "      <td>N</td>\n",
       "    </tr>\n",
       "  </tbody>\n",
       "</table>\n",
       "</div>"
      ],
      "text/plain": [
       "   SEVERITYCODE                    SEVERITYDESC  \\\n",
       "0             1                Injury Collision   \n",
       "1             0  Property Damage Only Collision   \n",
       "2             0  Property Damage Only Collision   \n",
       "3             0  Property Damage Only Collision   \n",
       "4             1                Injury Collision   \n",
       "\n",
       "                                      LOCATION      ADDRTYPE COLLISIONTYPE  \\\n",
       "0                   5TH AVE NE AND NE 103RD ST  Intersection        Angles   \n",
       "1   AURORA BR BETWEEN RAYE ST AND BRIDGE WAY N         Block     Sideswipe   \n",
       "2  4TH AVE BETWEEN SENECA ST AND UNIVERSITY ST         Block    Parked Car   \n",
       "3     2ND AVE BETWEEN MARION ST AND MADISON ST         Block         Other   \n",
       "4              SWIFT AVE S AND SWIFT AV OFF RP  Intersection        Angles   \n",
       "\n",
       "   PERSONCOUNT  VEHCOUNT                             JUNCTIONTYPE  UNDERINFL  \\\n",
       "0            2         2   At Intersection (intersection related)          0   \n",
       "1            2         2  Mid-Block (not related to intersection)          0   \n",
       "2            4         3  Mid-Block (not related to intersection)          0   \n",
       "3            3         3  Mid-Block (not related to intersection)          0   \n",
       "4            2         2   At Intersection (intersection related)          0   \n",
       "\n",
       "    WEATHER ROADCOND                LIGHTCOND  SPEEDING  \\\n",
       "0  Overcast      Wet                 Daylight         0   \n",
       "1   Raining      Wet  Dark - Street Lights On         0   \n",
       "2  Overcast      Dry                 Daylight         0   \n",
       "3     Clear      Dry                 Daylight         0   \n",
       "4   Raining      Wet                 Daylight         0   \n",
       "\n",
       "                                          ST_COLDESC HITPARKEDCAR  \n",
       "0                                  Entering at angle            N  \n",
       "1  From same direction - both going straight - bo...            N  \n",
       "2                             One parked--one moving            N  \n",
       "3                   From same direction - all others            N  \n",
       "4                                  Entering at angle            N  "
      ]
     },
     "execution_count": 42,
     "metadata": {},
     "output_type": "execute_result"
    }
   ],
   "source": [
    "col_df['SEVERITYCODE'].replace(to_replace = [2, 1], value = [1, 0], inplace =True)\n",
    "col_df.head()"
   ]
  },
  {
   "cell_type": "code",
   "execution_count": 43,
   "metadata": {},
   "outputs": [
    {
     "name": "stdout",
     "output_type": "stream",
     "text": [
      "Block           123664\n",
      "Intersection     63559\n",
      "Alley              747\n",
      "Name: ADDRTYPE, dtype: int64\n"
     ]
    },
    {
     "data": {
      "text/html": [
       "<div>\n",
       "<style scoped>\n",
       "    .dataframe tbody tr th:only-of-type {\n",
       "        vertical-align: middle;\n",
       "    }\n",
       "\n",
       "    .dataframe tbody tr th {\n",
       "        vertical-align: top;\n",
       "    }\n",
       "\n",
       "    .dataframe thead th {\n",
       "        text-align: right;\n",
       "    }\n",
       "</style>\n",
       "<table border=\"1\" class=\"dataframe\">\n",
       "  <thead>\n",
       "    <tr style=\"text-align: right;\">\n",
       "      <th></th>\n",
       "      <th>SEVERITYCODE</th>\n",
       "      <th>SEVERITYDESC</th>\n",
       "      <th>LOCATION</th>\n",
       "      <th>COLLISIONTYPE</th>\n",
       "      <th>PERSONCOUNT</th>\n",
       "      <th>VEHCOUNT</th>\n",
       "      <th>JUNCTIONTYPE</th>\n",
       "      <th>UNDERINFL</th>\n",
       "      <th>WEATHER</th>\n",
       "      <th>ROADCOND</th>\n",
       "      <th>LIGHTCOND</th>\n",
       "      <th>SPEEDING</th>\n",
       "      <th>ST_COLDESC</th>\n",
       "      <th>HITPARKEDCAR</th>\n",
       "      <th>ADDR_Block</th>\n",
       "      <th>ADDR_Intersection</th>\n",
       "    </tr>\n",
       "  </thead>\n",
       "  <tbody>\n",
       "    <tr>\n",
       "      <th>0</th>\n",
       "      <td>1</td>\n",
       "      <td>Injury Collision</td>\n",
       "      <td>5TH AVE NE AND NE 103RD ST</td>\n",
       "      <td>Angles</td>\n",
       "      <td>2</td>\n",
       "      <td>2</td>\n",
       "      <td>At Intersection (intersection related)</td>\n",
       "      <td>0</td>\n",
       "      <td>Overcast</td>\n",
       "      <td>Wet</td>\n",
       "      <td>Daylight</td>\n",
       "      <td>0</td>\n",
       "      <td>Entering at angle</td>\n",
       "      <td>N</td>\n",
       "      <td>0</td>\n",
       "      <td>1</td>\n",
       "    </tr>\n",
       "    <tr>\n",
       "      <th>1</th>\n",
       "      <td>0</td>\n",
       "      <td>Property Damage Only Collision</td>\n",
       "      <td>AURORA BR BETWEEN RAYE ST AND BRIDGE WAY N</td>\n",
       "      <td>Sideswipe</td>\n",
       "      <td>2</td>\n",
       "      <td>2</td>\n",
       "      <td>Mid-Block (not related to intersection)</td>\n",
       "      <td>0</td>\n",
       "      <td>Raining</td>\n",
       "      <td>Wet</td>\n",
       "      <td>Dark - Street Lights On</td>\n",
       "      <td>0</td>\n",
       "      <td>From same direction - both going straight - bo...</td>\n",
       "      <td>N</td>\n",
       "      <td>1</td>\n",
       "      <td>0</td>\n",
       "    </tr>\n",
       "    <tr>\n",
       "      <th>2</th>\n",
       "      <td>0</td>\n",
       "      <td>Property Damage Only Collision</td>\n",
       "      <td>4TH AVE BETWEEN SENECA ST AND UNIVERSITY ST</td>\n",
       "      <td>Parked Car</td>\n",
       "      <td>4</td>\n",
       "      <td>3</td>\n",
       "      <td>Mid-Block (not related to intersection)</td>\n",
       "      <td>0</td>\n",
       "      <td>Overcast</td>\n",
       "      <td>Dry</td>\n",
       "      <td>Daylight</td>\n",
       "      <td>0</td>\n",
       "      <td>One parked--one moving</td>\n",
       "      <td>N</td>\n",
       "      <td>1</td>\n",
       "      <td>0</td>\n",
       "    </tr>\n",
       "    <tr>\n",
       "      <th>3</th>\n",
       "      <td>0</td>\n",
       "      <td>Property Damage Only Collision</td>\n",
       "      <td>2ND AVE BETWEEN MARION ST AND MADISON ST</td>\n",
       "      <td>Other</td>\n",
       "      <td>3</td>\n",
       "      <td>3</td>\n",
       "      <td>Mid-Block (not related to intersection)</td>\n",
       "      <td>0</td>\n",
       "      <td>Clear</td>\n",
       "      <td>Dry</td>\n",
       "      <td>Daylight</td>\n",
       "      <td>0</td>\n",
       "      <td>From same direction - all others</td>\n",
       "      <td>N</td>\n",
       "      <td>1</td>\n",
       "      <td>0</td>\n",
       "    </tr>\n",
       "    <tr>\n",
       "      <th>4</th>\n",
       "      <td>1</td>\n",
       "      <td>Injury Collision</td>\n",
       "      <td>SWIFT AVE S AND SWIFT AV OFF RP</td>\n",
       "      <td>Angles</td>\n",
       "      <td>2</td>\n",
       "      <td>2</td>\n",
       "      <td>At Intersection (intersection related)</td>\n",
       "      <td>0</td>\n",
       "      <td>Raining</td>\n",
       "      <td>Wet</td>\n",
       "      <td>Daylight</td>\n",
       "      <td>0</td>\n",
       "      <td>Entering at angle</td>\n",
       "      <td>N</td>\n",
       "      <td>0</td>\n",
       "      <td>1</td>\n",
       "    </tr>\n",
       "  </tbody>\n",
       "</table>\n",
       "</div>"
      ],
      "text/plain": [
       "   SEVERITYCODE                    SEVERITYDESC  \\\n",
       "0             1                Injury Collision   \n",
       "1             0  Property Damage Only Collision   \n",
       "2             0  Property Damage Only Collision   \n",
       "3             0  Property Damage Only Collision   \n",
       "4             1                Injury Collision   \n",
       "\n",
       "                                      LOCATION COLLISIONTYPE  PERSONCOUNT  \\\n",
       "0                   5TH AVE NE AND NE 103RD ST        Angles            2   \n",
       "1   AURORA BR BETWEEN RAYE ST AND BRIDGE WAY N     Sideswipe            2   \n",
       "2  4TH AVE BETWEEN SENECA ST AND UNIVERSITY ST    Parked Car            4   \n",
       "3     2ND AVE BETWEEN MARION ST AND MADISON ST         Other            3   \n",
       "4              SWIFT AVE S AND SWIFT AV OFF RP        Angles            2   \n",
       "\n",
       "   VEHCOUNT                             JUNCTIONTYPE  UNDERINFL   WEATHER  \\\n",
       "0         2   At Intersection (intersection related)          0  Overcast   \n",
       "1         2  Mid-Block (not related to intersection)          0   Raining   \n",
       "2         3  Mid-Block (not related to intersection)          0  Overcast   \n",
       "3         3  Mid-Block (not related to intersection)          0     Clear   \n",
       "4         2   At Intersection (intersection related)          0   Raining   \n",
       "\n",
       "  ROADCOND                LIGHTCOND  SPEEDING  \\\n",
       "0      Wet                 Daylight         0   \n",
       "1      Wet  Dark - Street Lights On         0   \n",
       "2      Dry                 Daylight         0   \n",
       "3      Dry                 Daylight         0   \n",
       "4      Wet                 Daylight         0   \n",
       "\n",
       "                                          ST_COLDESC HITPARKEDCAR  ADDR_Block  \\\n",
       "0                                  Entering at angle            N           0   \n",
       "1  From same direction - both going straight - bo...            N           1   \n",
       "2                             One parked--one moving            N           1   \n",
       "3                   From same direction - all others            N           1   \n",
       "4                                  Entering at angle            N           0   \n",
       "\n",
       "   ADDR_Intersection  \n",
       "0                  1  \n",
       "1                  0  \n",
       "2                  0  \n",
       "3                  0  \n",
       "4                  1  "
      ]
     },
     "execution_count": 43,
     "metadata": {},
     "output_type": "execute_result"
    }
   ],
   "source": [
    "print(col_df['ADDRTYPE'].value_counts())\n",
    "col_df = pd.concat([col_df, pd.get_dummies(col_df['ADDRTYPE'], prefix='ADDR')], axis=1)\n",
    "col_df.drop(['ADDRTYPE', 'ADDR_Alley'], axis=1, inplace=True)\n",
    "col_df.head()"
   ]
  },
  {
   "cell_type": "code",
   "execution_count": 47,
   "metadata": {},
   "outputs": [
    {
     "name": "stdout",
     "output_type": "stream",
     "text": [
      "Parked Car    47987\n",
      "Angles        34674\n",
      "Rear Ended    34090\n",
      "Other         23703\n",
      "Sideswipe     18609\n",
      "Left Turn     13703\n",
      "Pedestrian     6607\n",
      "Cycles         5415\n",
      "Right Turn     2956\n",
      "Head On        2024\n",
      "Name: COLLISIONTYPE, dtype: int64\n",
      "COLLISIONTYPE\n",
      "Angles        0.182698\n",
      "Cycles        0.028532\n",
      "Head On       0.010664\n",
      "Left Turn     0.072201\n",
      "Other         0.124891\n",
      "Parked Car    0.252844\n",
      "Pedestrian    0.034812\n",
      "Rear Ended    0.179621\n",
      "Right Turn    0.015575\n",
      "Sideswipe     0.098051\n",
      "dtype: float64\n"
     ]
    },
    {
     "data": {
      "text/html": [
       "<div>\n",
       "<style scoped>\n",
       "    .dataframe tbody tr th:only-of-type {\n",
       "        vertical-align: middle;\n",
       "    }\n",
       "\n",
       "    .dataframe tbody tr th {\n",
       "        vertical-align: top;\n",
       "    }\n",
       "\n",
       "    .dataframe thead th {\n",
       "        text-align: right;\n",
       "    }\n",
       "</style>\n",
       "<table border=\"1\" class=\"dataframe\">\n",
       "  <thead>\n",
       "    <tr style=\"text-align: right;\">\n",
       "      <th></th>\n",
       "      <th>COLLISIONTYPE</th>\n",
       "      <th>COLLISIONFREQ</th>\n",
       "    </tr>\n",
       "  </thead>\n",
       "  <tbody>\n",
       "    <tr>\n",
       "      <th>0</th>\n",
       "      <td>Angles</td>\n",
       "      <td>0.182698</td>\n",
       "    </tr>\n",
       "    <tr>\n",
       "      <th>1</th>\n",
       "      <td>Sideswipe</td>\n",
       "      <td>0.098051</td>\n",
       "    </tr>\n",
       "    <tr>\n",
       "      <th>2</th>\n",
       "      <td>Parked Car</td>\n",
       "      <td>0.252844</td>\n",
       "    </tr>\n",
       "    <tr>\n",
       "      <th>3</th>\n",
       "      <td>Other</td>\n",
       "      <td>0.124891</td>\n",
       "    </tr>\n",
       "    <tr>\n",
       "      <th>4</th>\n",
       "      <td>Angles</td>\n",
       "      <td>0.182698</td>\n",
       "    </tr>\n",
       "  </tbody>\n",
       "</table>\n",
       "</div>"
      ],
      "text/plain": [
       "  COLLISIONTYPE  COLLISIONFREQ\n",
       "0        Angles       0.182698\n",
       "1     Sideswipe       0.098051\n",
       "2    Parked Car       0.252844\n",
       "3         Other       0.124891\n",
       "4        Angles       0.182698"
      ]
     },
     "execution_count": 47,
     "metadata": {},
     "output_type": "execute_result"
    }
   ],
   "source": [
    "#frequency\n",
    "print(col_df['COLLISIONTYPE'].value_counts())\n",
    "col_freq = col_df.groupby(['COLLISIONTYPE']).size()/len(col_df)\n",
    "print(col_freq)\n",
    "col_df['COLLISIONFREQ'] = col_df['COLLISIONTYPE'].map(col_freq)\n",
    "col_df[['COLLISIONTYPE', 'COLLISIONFREQ']].head()"
   ]
  },
  {
   "cell_type": "code",
   "execution_count": 48,
   "metadata": {},
   "outputs": [
    {
     "name": "stdout",
     "output_type": "stream",
     "text": [
      "One parked--one moving                                                 44421\n",
      "Entering at angle                                                      34674\n",
      "From same direction - both going straight - one stopped - rear-end     25771\n",
      "Fixed object                                                           13554\n",
      "From same direction - both going straight - both moving - sideswipe    12777\n",
      "Name: ST_COLDESC, dtype: int64\n",
      "0.000005    3\n",
      "0.000058    3\n",
      "0.000011    2\n",
      "0.000047    2\n",
      "0.000263    1\n",
      "Name: SEVERITYCODE, dtype: int64\n"
     ]
    },
    {
     "data": {
      "text/html": [
       "<div>\n",
       "<style scoped>\n",
       "    .dataframe tbody tr th:only-of-type {\n",
       "        vertical-align: middle;\n",
       "    }\n",
       "\n",
       "    .dataframe tbody tr th {\n",
       "        vertical-align: top;\n",
       "    }\n",
       "\n",
       "    .dataframe thead th {\n",
       "        text-align: right;\n",
       "    }\n",
       "</style>\n",
       "<table border=\"1\" class=\"dataframe\">\n",
       "  <thead>\n",
       "    <tr style=\"text-align: right;\">\n",
       "      <th></th>\n",
       "      <th>ST_COLDESC</th>\n",
       "      <th>ST_freq</th>\n",
       "    </tr>\n",
       "  </thead>\n",
       "  <tbody>\n",
       "    <tr>\n",
       "      <th>0</th>\n",
       "      <td>Entering at angle</td>\n",
       "      <td>0.182698</td>\n",
       "    </tr>\n",
       "    <tr>\n",
       "      <th>1</th>\n",
       "      <td>From same direction - both going straight - bo...</td>\n",
       "      <td>0.067322</td>\n",
       "    </tr>\n",
       "    <tr>\n",
       "      <th>2</th>\n",
       "      <td>One parked--one moving</td>\n",
       "      <td>0.234055</td>\n",
       "    </tr>\n",
       "    <tr>\n",
       "      <th>3</th>\n",
       "      <td>From same direction - all others</td>\n",
       "      <td>0.023905</td>\n",
       "    </tr>\n",
       "    <tr>\n",
       "      <th>4</th>\n",
       "      <td>Entering at angle</td>\n",
       "      <td>0.182698</td>\n",
       "    </tr>\n",
       "  </tbody>\n",
       "</table>\n",
       "</div>"
      ],
      "text/plain": [
       "                                          ST_COLDESC   ST_freq\n",
       "0                                  Entering at angle  0.182698\n",
       "1  From same direction - both going straight - bo...  0.067322\n",
       "2                             One parked--one moving  0.234055\n",
       "3                   From same direction - all others  0.023905\n",
       "4                                  Entering at angle  0.182698"
      ]
     },
     "execution_count": 48,
     "metadata": {},
     "output_type": "execute_result"
    }
   ],
   "source": [
    "#frequency\n",
    "print(col_df['ST_COLDESC'].value_counts().head())\n",
    "ST_freq = col_df.groupby(['ST_COLDESC'])['SEVERITYCODE'].size()/len(col_df)\n",
    "print(ST_freq.value_counts().head())\n",
    "col_df['ST_freq'] = col_df['ST_COLDESC'].map(ST_freq)\n",
    "col_df[['ST_COLDESC', 'ST_freq']].head()"
   ]
  },
  {
   "cell_type": "code",
   "execution_count": 49,
   "metadata": {},
   "outputs": [
    {
     "name": "stdout",
     "output_type": "stream",
     "text": [
      "N    182871\n",
      "Y      6918\n",
      "Name: HITPARKEDCAR, dtype: int64\n",
      "0    182871\n",
      "1      6918\n",
      "Name: HITPARKEDCAR, dtype: int64\n"
     ]
    }
   ],
   "source": [
    "# frequency\n",
    "print(col_df['HITPARKEDCAR'].value_counts())\n",
    "col_df['HITPARKEDCAR'].replace(to_replace = ['N', 'Y'], value = [0, 1], inplace=True)\n",
    "print(col_df['HITPARKEDCAR'].value_counts())"
   ]
  },
  {
   "cell_type": "code",
   "execution_count": 50,
   "metadata": {},
   "outputs": [
    {
     "name": "stdout",
     "output_type": "stream",
     "text": [
      "BATTERY ST TUNNEL NB BETWEEN ALASKAN WY VI NB AND AURORA AVE N    274\n",
      "BATTERY ST TUNNEL SB BETWEEN AURORA AVE N AND ALASKAN WY VI SB    268\n",
      "N NORTHGATE WAY BETWEEN MERIDIAN AVE N AND CORLISS AVE N          260\n",
      "AURORA AVE N BETWEEN N 117TH PL AND N 125TH ST                    247\n",
      "6TH AVE AND JAMES ST                                              242\n",
      "                                                                 ... \n",
      "NE 93RD ST BETWEEN 49TH AVE NE AND 51ST AVE NE                      1\n",
      "29TH AVE W AND W RAYE ST                                            1\n",
      "1ST AVE N BETWEEN PROSPECT N ST AND HIGHLAND S DR                   1\n",
      "24TH AVE W BETWEEN 24 UPPER AVE W AND W RUFFNER ST                  1\n",
      "S DAWSON ST BETWEEN BEACON ER AVE S AND 24TH AVE S                  1\n",
      "Name: LOCATION, Length: 23956, dtype: int64\n",
      "                                  YES        NO      ODDS\n",
      "LOCATION                                                 \n",
      "10TH AVE AND E ALDER ST      0.000000  1.000000  0.000000\n",
      "10TH AVE AND E JEFFERSON ST  0.100000  0.900000  0.111111\n",
      "10TH AVE AND E MADISON ST    0.100000  0.900000  0.111111\n",
      "10TH AVE AND E PIKE ST       0.409091  0.590909  0.692308\n",
      "10TH AVE AND E PINE ST       0.550000  0.450000  1.222222\n"
     ]
    }
   ],
   "source": [
    "#probability\n",
    "print(col_df['LOCATION'].value_counts())\n",
    "pr_loc = col_df.groupby('LOCATION')['SEVERITYCODE'].mean()\n",
    "pr_loc = pd.DataFrame(pr_loc)\n",
    "pr_loc = pr_loc.rename(columns={'SEVERITYCODE' : 'YES'})\n",
    "pr_loc['NO'] = 1- pr_loc['YES']\n",
    "\n",
    "pr_loc['NO'] = np.where(pr_loc['NO']==0, 0.000001, pr_loc['NO'])\n",
    "pr_loc['ODDS'] = pr_loc['YES']/pr_loc['NO']\n",
    "print(pr_loc.head())"
   ]
  },
  {
   "cell_type": "code",
   "execution_count": 51,
   "metadata": {},
   "outputs": [
    {
     "data": {
      "text/html": [
       "<div>\n",
       "<style scoped>\n",
       "    .dataframe tbody tr th:only-of-type {\n",
       "        vertical-align: middle;\n",
       "    }\n",
       "\n",
       "    .dataframe tbody tr th {\n",
       "        vertical-align: top;\n",
       "    }\n",
       "\n",
       "    .dataframe thead th {\n",
       "        text-align: right;\n",
       "    }\n",
       "</style>\n",
       "<table border=\"1\" class=\"dataframe\">\n",
       "  <thead>\n",
       "    <tr style=\"text-align: right;\">\n",
       "      <th></th>\n",
       "      <th>LOCATION</th>\n",
       "      <th>LOCATION_ODDS</th>\n",
       "    </tr>\n",
       "  </thead>\n",
       "  <tbody>\n",
       "    <tr>\n",
       "      <th>0</th>\n",
       "      <td>5TH AVE NE AND NE 103RD ST</td>\n",
       "      <td>0.937500</td>\n",
       "    </tr>\n",
       "    <tr>\n",
       "      <th>1</th>\n",
       "      <td>AURORA BR BETWEEN RAYE ST AND BRIDGE WAY N</td>\n",
       "      <td>0.504132</td>\n",
       "    </tr>\n",
       "    <tr>\n",
       "      <th>2</th>\n",
       "      <td>4TH AVE BETWEEN SENECA ST AND UNIVERSITY ST</td>\n",
       "      <td>0.111111</td>\n",
       "    </tr>\n",
       "    <tr>\n",
       "      <th>3</th>\n",
       "      <td>2ND AVE BETWEEN MARION ST AND MADISON ST</td>\n",
       "      <td>0.315789</td>\n",
       "    </tr>\n",
       "    <tr>\n",
       "      <th>4</th>\n",
       "      <td>SWIFT AVE S AND SWIFT AV OFF RP</td>\n",
       "      <td>0.421053</td>\n",
       "    </tr>\n",
       "  </tbody>\n",
       "</table>\n",
       "</div>"
      ],
      "text/plain": [
       "                                      LOCATION  LOCATION_ODDS\n",
       "0                   5TH AVE NE AND NE 103RD ST       0.937500\n",
       "1   AURORA BR BETWEEN RAYE ST AND BRIDGE WAY N       0.504132\n",
       "2  4TH AVE BETWEEN SENECA ST AND UNIVERSITY ST       0.111111\n",
       "3     2ND AVE BETWEEN MARION ST AND MADISON ST       0.315789\n",
       "4              SWIFT AVE S AND SWIFT AV OFF RP       0.421053"
      ]
     },
     "execution_count": 51,
     "metadata": {},
     "output_type": "execute_result"
    }
   ],
   "source": [
    "col_df['LOCATION_ODDS'] = col_df['LOCATION'].map(pr_loc['ODDS'])\n",
    "col_df[['LOCATION', 'LOCATION_ODDS']].head()"
   ]
  },
  {
   "cell_type": "code",
   "execution_count": 52,
   "metadata": {},
   "outputs": [
    {
     "name": "stdout",
     "output_type": "stream",
     "text": [
      "Mid-Block (not related to intersection)              87121\n",
      "At Intersection (intersection related)               61335\n",
      "Mid-Block (but intersection related)                 22388\n",
      "Driveway Junction                                    10538\n",
      "At Intersection (but not related to intersection)     2060\n",
      "Ramp Junction                                          162\n",
      "Unknown                                                  7\n",
      "Name: JUNCTIONTYPE, dtype: int64\n",
      "JUNCTIONTYPE\n",
      "At Intersection (but not related to intersection)    0.010854\n",
      "At Intersection (intersection related)               0.323175\n",
      "Driveway Junction                                    0.055525\n",
      "Mid-Block (but intersection related)                 0.117963\n",
      "Mid-Block (not related to intersection)              0.459041\n",
      "Ramp Junction                                        0.000854\n",
      "Unknown                                              0.000037\n",
      "dtype: float64\n"
     ]
    },
    {
     "data": {
      "text/html": [
       "<div>\n",
       "<style scoped>\n",
       "    .dataframe tbody tr th:only-of-type {\n",
       "        vertical-align: middle;\n",
       "    }\n",
       "\n",
       "    .dataframe tbody tr th {\n",
       "        vertical-align: top;\n",
       "    }\n",
       "\n",
       "    .dataframe thead th {\n",
       "        text-align: right;\n",
       "    }\n",
       "</style>\n",
       "<table border=\"1\" class=\"dataframe\">\n",
       "  <thead>\n",
       "    <tr style=\"text-align: right;\">\n",
       "      <th></th>\n",
       "      <th>JUNCTIONTYPE</th>\n",
       "      <th>JUNCTION_FREQ</th>\n",
       "    </tr>\n",
       "  </thead>\n",
       "  <tbody>\n",
       "    <tr>\n",
       "      <th>0</th>\n",
       "      <td>At Intersection (intersection related)</td>\n",
       "      <td>0.323175</td>\n",
       "    </tr>\n",
       "    <tr>\n",
       "      <th>1</th>\n",
       "      <td>Mid-Block (not related to intersection)</td>\n",
       "      <td>0.459041</td>\n",
       "    </tr>\n",
       "    <tr>\n",
       "      <th>2</th>\n",
       "      <td>Mid-Block (not related to intersection)</td>\n",
       "      <td>0.459041</td>\n",
       "    </tr>\n",
       "    <tr>\n",
       "      <th>3</th>\n",
       "      <td>Mid-Block (not related to intersection)</td>\n",
       "      <td>0.459041</td>\n",
       "    </tr>\n",
       "    <tr>\n",
       "      <th>4</th>\n",
       "      <td>At Intersection (intersection related)</td>\n",
       "      <td>0.323175</td>\n",
       "    </tr>\n",
       "  </tbody>\n",
       "</table>\n",
       "</div>"
      ],
      "text/plain": [
       "                              JUNCTIONTYPE  JUNCTION_FREQ\n",
       "0   At Intersection (intersection related)       0.323175\n",
       "1  Mid-Block (not related to intersection)       0.459041\n",
       "2  Mid-Block (not related to intersection)       0.459041\n",
       "3  Mid-Block (not related to intersection)       0.459041\n",
       "4   At Intersection (intersection related)       0.323175"
      ]
     },
     "execution_count": 52,
     "metadata": {},
     "output_type": "execute_result"
    }
   ],
   "source": [
    "#frequency\n",
    "print(col_df['JUNCTIONTYPE'].value_counts())\n",
    "junc_freq = col_df.groupby(['JUNCTIONTYPE']).size()/len(col_df)\n",
    "print(junc_freq)\n",
    "col_df['JUNCTION_FREQ'] = col_df['JUNCTIONTYPE'].map(junc_freq)\n",
    "col_df[['JUNCTIONTYPE', 'JUNCTION_FREQ']].head()"
   ]
  },
  {
   "cell_type": "code",
   "execution_count": 53,
   "metadata": {},
   "outputs": [
    {
     "name": "stdout",
     "output_type": "stream",
     "text": [
      "Clear                       111135\n",
      "Raining                      33145\n",
      "Overcast                     27714\n",
      "Unknown                      15091\n",
      "Snowing                        907\n",
      "Other                          832\n",
      "Fog/Smog/Smoke                 569\n",
      "Sleet/Hail/Freezing Rain       113\n",
      "Blowing Sand/Dirt               56\n",
      "Severe Crosswind                25\n",
      "Partly Cloudy                    5\n",
      "Name: WEATHER, dtype: int64\n",
      "WEATHER\n",
      "Blowing Sand/Dirt           0.000295\n",
      "Clear                       0.585571\n",
      "Fog/Smog/Smoke              0.002998\n",
      "Other                       0.004384\n",
      "Overcast                    0.146025\n",
      "Partly Cloudy               0.000026\n",
      "Raining                     0.174641\n",
      "Severe Crosswind            0.000132\n",
      "Sleet/Hail/Freezing Rain    0.000595\n",
      "Snowing                     0.004779\n",
      "Unknown                     0.079515\n",
      "dtype: float64\n"
     ]
    },
    {
     "data": {
      "text/html": [
       "<div>\n",
       "<style scoped>\n",
       "    .dataframe tbody tr th:only-of-type {\n",
       "        vertical-align: middle;\n",
       "    }\n",
       "\n",
       "    .dataframe tbody tr th {\n",
       "        vertical-align: top;\n",
       "    }\n",
       "\n",
       "    .dataframe thead th {\n",
       "        text-align: right;\n",
       "    }\n",
       "</style>\n",
       "<table border=\"1\" class=\"dataframe\">\n",
       "  <thead>\n",
       "    <tr style=\"text-align: right;\">\n",
       "      <th></th>\n",
       "      <th>WEATHER</th>\n",
       "      <th>WEATHER_FREQ</th>\n",
       "    </tr>\n",
       "  </thead>\n",
       "  <tbody>\n",
       "    <tr>\n",
       "      <th>0</th>\n",
       "      <td>Overcast</td>\n",
       "      <td>0.146025</td>\n",
       "    </tr>\n",
       "    <tr>\n",
       "      <th>1</th>\n",
       "      <td>Raining</td>\n",
       "      <td>0.174641</td>\n",
       "    </tr>\n",
       "    <tr>\n",
       "      <th>2</th>\n",
       "      <td>Overcast</td>\n",
       "      <td>0.146025</td>\n",
       "    </tr>\n",
       "    <tr>\n",
       "      <th>3</th>\n",
       "      <td>Clear</td>\n",
       "      <td>0.585571</td>\n",
       "    </tr>\n",
       "    <tr>\n",
       "      <th>4</th>\n",
       "      <td>Raining</td>\n",
       "      <td>0.174641</td>\n",
       "    </tr>\n",
       "  </tbody>\n",
       "</table>\n",
       "</div>"
      ],
      "text/plain": [
       "    WEATHER  WEATHER_FREQ\n",
       "0  Overcast      0.146025\n",
       "1   Raining      0.174641\n",
       "2  Overcast      0.146025\n",
       "3     Clear      0.585571\n",
       "4   Raining      0.174641"
      ]
     },
     "execution_count": 53,
     "metadata": {},
     "output_type": "execute_result"
    }
   ],
   "source": [
    "# frequency\n",
    "print(col_df['WEATHER'].value_counts())\n",
    "weath_freq = col_df.groupby(['WEATHER']).size()/len(col_df)\n",
    "print(weath_freq)\n",
    "col_df['WEATHER_FREQ'] = col_df['WEATHER'].map(weath_freq)\n",
    "col_df[['WEATHER', 'WEATHER_FREQ']].head()"
   ]
  },
  {
   "cell_type": "code",
   "execution_count": 54,
   "metadata": {},
   "outputs": [
    {
     "name": "stdout",
     "output_type": "stream",
     "text": [
      "Dry               124510\n",
      "Wet                47474\n",
      "Unknown            15078\n",
      "Ice                 1209\n",
      "Snow/Slush          1004\n",
      "Other                132\n",
      "Standing Water       115\n",
      "Sand/Mud/Dirt         75\n",
      "Oil                   64\n",
      "Name: ROADCOND, dtype: int64\n",
      "                    YES        NO  ROAD_ODDS\n",
      "ROADCOND                                    \n",
      "Dry            0.321773  0.678227   0.474433\n",
      "Ice            0.225806  0.774194   0.291667\n",
      "Oil            0.375000  0.625000   0.600000\n",
      "Other          0.325758  0.674242   0.483146\n",
      "Sand/Mud/Dirt  0.306667  0.693333   0.442308\n"
     ]
    }
   ],
   "source": [
    "# probability\n",
    "print(col_df['ROADCOND'].value_counts())\n",
    "road_pr = col_df.groupby(['ROADCOND'])['SEVERITYCODE'].mean()\n",
    "road_pr = pd.DataFrame(road_pr)\n",
    "road_pr.rename(columns = {'SEVERITYCODE' : 'YES'}, inplace = True)\n",
    "road_pr['NO'] = 1-road_pr['YES']\n",
    "road_pr['NO'] = np.where(road_pr['NO']==0, 0.000001, road_pr['NO'])\n",
    "road_pr['ROAD_ODDS'] = road_pr['YES']/road_pr['NO']\n",
    "print(road_pr.head())"
   ]
  },
  {
   "cell_type": "code",
   "execution_count": 55,
   "metadata": {},
   "outputs": [
    {
     "data": {
      "text/html": [
       "<div>\n",
       "<style scoped>\n",
       "    .dataframe tbody tr th:only-of-type {\n",
       "        vertical-align: middle;\n",
       "    }\n",
       "\n",
       "    .dataframe tbody tr th {\n",
       "        vertical-align: top;\n",
       "    }\n",
       "\n",
       "    .dataframe thead th {\n",
       "        text-align: right;\n",
       "    }\n",
       "</style>\n",
       "<table border=\"1\" class=\"dataframe\">\n",
       "  <thead>\n",
       "    <tr style=\"text-align: right;\">\n",
       "      <th></th>\n",
       "      <th>ROADCOND</th>\n",
       "      <th>ROAD_ODDS</th>\n",
       "    </tr>\n",
       "  </thead>\n",
       "  <tbody>\n",
       "    <tr>\n",
       "      <th>0</th>\n",
       "      <td>Wet</td>\n",
       "      <td>0.496705</td>\n",
       "    </tr>\n",
       "    <tr>\n",
       "      <th>1</th>\n",
       "      <td>Wet</td>\n",
       "      <td>0.496705</td>\n",
       "    </tr>\n",
       "    <tr>\n",
       "      <th>2</th>\n",
       "      <td>Dry</td>\n",
       "      <td>0.474433</td>\n",
       "    </tr>\n",
       "    <tr>\n",
       "      <th>3</th>\n",
       "      <td>Dry</td>\n",
       "      <td>0.474433</td>\n",
       "    </tr>\n",
       "    <tr>\n",
       "      <th>4</th>\n",
       "      <td>Wet</td>\n",
       "      <td>0.496705</td>\n",
       "    </tr>\n",
       "  </tbody>\n",
       "</table>\n",
       "</div>"
      ],
      "text/plain": [
       "  ROADCOND  ROAD_ODDS\n",
       "0      Wet   0.496705\n",
       "1      Wet   0.496705\n",
       "2      Dry   0.474433\n",
       "3      Dry   0.474433\n",
       "4      Wet   0.496705"
      ]
     },
     "execution_count": 55,
     "metadata": {},
     "output_type": "execute_result"
    }
   ],
   "source": [
    "col_df['ROAD_ODDS'] = col_df['ROADCOND'].map(road_pr['ROAD_ODDS'])\n",
    "col_df[['ROADCOND', 'ROAD_ODDS']].head()"
   ]
  },
  {
   "cell_type": "code",
   "execution_count": 56,
   "metadata": {},
   "outputs": [
    {
     "name": "stdout",
     "output_type": "stream",
     "text": [
      "Daylight                    116137\n",
      "Dark - Street Lights On      48507\n",
      "Unknown                      13473\n",
      "Dusk                          5902\n",
      "Dawn                          2502\n",
      "Dark - No Street Lights       1537\n",
      "Dark - Street Lights Off      1199\n",
      "Other                          235\n",
      "Dark - Unknown Lighting         11\n",
      "Name: LIGHTCOND, dtype: int64\n"
     ]
    },
    {
     "data": {
      "text/html": [
       "<div>\n",
       "<style scoped>\n",
       "    .dataframe tbody tr th:only-of-type {\n",
       "        vertical-align: middle;\n",
       "    }\n",
       "\n",
       "    .dataframe tbody tr th {\n",
       "        vertical-align: top;\n",
       "    }\n",
       "\n",
       "    .dataframe thead th {\n",
       "        text-align: right;\n",
       "    }\n",
       "</style>\n",
       "<table border=\"1\" class=\"dataframe\">\n",
       "  <thead>\n",
       "    <tr style=\"text-align: right;\">\n",
       "      <th></th>\n",
       "      <th>YES</th>\n",
       "      <th>NO</th>\n",
       "      <th>LIGHT_ODDS</th>\n",
       "    </tr>\n",
       "    <tr>\n",
       "      <th>LIGHTCOND</th>\n",
       "      <th></th>\n",
       "      <th></th>\n",
       "      <th></th>\n",
       "    </tr>\n",
       "  </thead>\n",
       "  <tbody>\n",
       "    <tr>\n",
       "      <th>Dark - No Street Lights</th>\n",
       "      <td>0.217306</td>\n",
       "      <td>0.782694</td>\n",
       "      <td>0.277639</td>\n",
       "    </tr>\n",
       "    <tr>\n",
       "      <th>Dark - Street Lights Off</th>\n",
       "      <td>0.263553</td>\n",
       "      <td>0.736447</td>\n",
       "      <td>0.357871</td>\n",
       "    </tr>\n",
       "    <tr>\n",
       "      <th>Dark - Street Lights On</th>\n",
       "      <td>0.298411</td>\n",
       "      <td>0.701589</td>\n",
       "      <td>0.425335</td>\n",
       "    </tr>\n",
       "    <tr>\n",
       "      <th>Dark - Unknown Lighting</th>\n",
       "      <td>0.363636</td>\n",
       "      <td>0.636364</td>\n",
       "      <td>0.571429</td>\n",
       "    </tr>\n",
       "    <tr>\n",
       "      <th>Dawn</th>\n",
       "      <td>0.329337</td>\n",
       "      <td>0.670663</td>\n",
       "      <td>0.491061</td>\n",
       "    </tr>\n",
       "  </tbody>\n",
       "</table>\n",
       "</div>"
      ],
      "text/plain": [
       "                               YES        NO  LIGHT_ODDS\n",
       "LIGHTCOND                                               \n",
       "Dark - No Street Lights   0.217306  0.782694    0.277639\n",
       "Dark - Street Lights Off  0.263553  0.736447    0.357871\n",
       "Dark - Street Lights On   0.298411  0.701589    0.425335\n",
       "Dark - Unknown Lighting   0.363636  0.636364    0.571429\n",
       "Dawn                      0.329337  0.670663    0.491061"
      ]
     },
     "execution_count": 56,
     "metadata": {},
     "output_type": "execute_result"
    }
   ],
   "source": [
    "#probability\n",
    "print(col_df['LIGHTCOND'].value_counts())\n",
    "light_pr = col_df.groupby(['LIGHTCOND'])['SEVERITYCODE'].mean()\n",
    "light_pr = pd.DataFrame(light_pr)\n",
    "light_pr = light_pr.rename(columns = {'SEVERITYCODE' : 'YES'})\n",
    "light_pr['NO'] = 1 - light_pr['YES']\n",
    "light_pr['NO'] = np.where(light_pr['NO']==0, 0.000001, light_pr['NO'])\n",
    "light_pr['LIGHT_ODDS'] = light_pr['YES']/light_pr['NO']\n",
    "light_pr.head()"
   ]
  },
  {
   "cell_type": "code",
   "execution_count": 57,
   "metadata": {},
   "outputs": [
    {
     "data": {
      "text/html": [
       "<div>\n",
       "<style scoped>\n",
       "    .dataframe tbody tr th:only-of-type {\n",
       "        vertical-align: middle;\n",
       "    }\n",
       "\n",
       "    .dataframe tbody tr th {\n",
       "        vertical-align: top;\n",
       "    }\n",
       "\n",
       "    .dataframe thead th {\n",
       "        text-align: right;\n",
       "    }\n",
       "</style>\n",
       "<table border=\"1\" class=\"dataframe\">\n",
       "  <thead>\n",
       "    <tr style=\"text-align: right;\">\n",
       "      <th></th>\n",
       "      <th>LIGHTCOND</th>\n",
       "      <th>LIGHT_ODDS</th>\n",
       "    </tr>\n",
       "  </thead>\n",
       "  <tbody>\n",
       "    <tr>\n",
       "      <th>0</th>\n",
       "      <td>Daylight</td>\n",
       "      <td>0.496746</td>\n",
       "    </tr>\n",
       "    <tr>\n",
       "      <th>1</th>\n",
       "      <td>Dark - Street Lights On</td>\n",
       "      <td>0.425335</td>\n",
       "    </tr>\n",
       "    <tr>\n",
       "      <th>2</th>\n",
       "      <td>Daylight</td>\n",
       "      <td>0.496746</td>\n",
       "    </tr>\n",
       "    <tr>\n",
       "      <th>3</th>\n",
       "      <td>Daylight</td>\n",
       "      <td>0.496746</td>\n",
       "    </tr>\n",
       "    <tr>\n",
       "      <th>4</th>\n",
       "      <td>Daylight</td>\n",
       "      <td>0.496746</td>\n",
       "    </tr>\n",
       "  </tbody>\n",
       "</table>\n",
       "</div>"
      ],
      "text/plain": [
       "                 LIGHTCOND  LIGHT_ODDS\n",
       "0                 Daylight    0.496746\n",
       "1  Dark - Street Lights On    0.425335\n",
       "2                 Daylight    0.496746\n",
       "3                 Daylight    0.496746\n",
       "4                 Daylight    0.496746"
      ]
     },
     "execution_count": 57,
     "metadata": {},
     "output_type": "execute_result"
    }
   ],
   "source": [
    "col_df['LIGHT_ODDS'] = col_df['LIGHTCOND'].map(light_pr['LIGHT_ODDS'])\n",
    "col_df[['LIGHTCOND', 'LIGHT_ODDS']].head()"
   ]
  },
  {
   "cell_type": "code",
   "execution_count": 58,
   "metadata": {},
   "outputs": [
    {
     "name": "stdout",
     "output_type": "stream",
     "text": [
      "False    189789\n",
      "Name: SPEEDING, dtype: int64\n",
      "0    180456\n",
      "1      9333\n",
      "Name: SPEEDING, dtype: int64\n"
     ]
    },
    {
     "data": {
      "text/plain": [
       "0    180456\n",
       "1      9333\n",
       "Name: SPEEDING, dtype: int64"
      ]
     },
     "execution_count": 58,
     "metadata": {},
     "output_type": "execute_result"
    }
   ],
   "source": [
    "print(col_df['SPEEDING'].isna().value_counts())\n",
    "print(col_df['SPEEDING'].value_counts())\n",
    "col_df['SPEEDING'] = col_df['SPEEDING'].fillna('N')\n",
    "col_df['SPEEDING'].value_counts()"
   ]
  },
  {
   "cell_type": "code",
   "execution_count": 59,
   "metadata": {},
   "outputs": [
    {
     "data": {
      "text/html": [
       "<div>\n",
       "<style scoped>\n",
       "    .dataframe tbody tr th:only-of-type {\n",
       "        vertical-align: middle;\n",
       "    }\n",
       "\n",
       "    .dataframe tbody tr th {\n",
       "        vertical-align: top;\n",
       "    }\n",
       "\n",
       "    .dataframe thead th {\n",
       "        text-align: right;\n",
       "    }\n",
       "</style>\n",
       "<table border=\"1\" class=\"dataframe\">\n",
       "  <thead>\n",
       "    <tr style=\"text-align: right;\">\n",
       "      <th></th>\n",
       "      <th>SEVERITYCODE</th>\n",
       "      <th>SEVERITYDESC</th>\n",
       "      <th>LOCATION</th>\n",
       "      <th>COLLISIONTYPE</th>\n",
       "      <th>PERSONCOUNT</th>\n",
       "      <th>VEHCOUNT</th>\n",
       "      <th>JUNCTIONTYPE</th>\n",
       "      <th>UNDERINFL</th>\n",
       "      <th>WEATHER</th>\n",
       "      <th>ROADCOND</th>\n",
       "      <th>...</th>\n",
       "      <th>ADDR_Intersection</th>\n",
       "      <th>COLLISIONFREQ</th>\n",
       "      <th>ST_freq</th>\n",
       "      <th>LOCATION_ODDS</th>\n",
       "      <th>JUNCTION_FREQ</th>\n",
       "      <th>WEATHER_FREQ</th>\n",
       "      <th>ROAD_ODDS</th>\n",
       "      <th>LIGHT_ODDS</th>\n",
       "      <th>SPEED_0</th>\n",
       "      <th>SPEED_1</th>\n",
       "    </tr>\n",
       "  </thead>\n",
       "  <tbody>\n",
       "    <tr>\n",
       "      <th>0</th>\n",
       "      <td>1</td>\n",
       "      <td>Injury Collision</td>\n",
       "      <td>5TH AVE NE AND NE 103RD ST</td>\n",
       "      <td>Angles</td>\n",
       "      <td>2</td>\n",
       "      <td>2</td>\n",
       "      <td>At Intersection (intersection related)</td>\n",
       "      <td>0</td>\n",
       "      <td>Overcast</td>\n",
       "      <td>Wet</td>\n",
       "      <td>...</td>\n",
       "      <td>1</td>\n",
       "      <td>0.182698</td>\n",
       "      <td>0.182698</td>\n",
       "      <td>0.937500</td>\n",
       "      <td>0.323175</td>\n",
       "      <td>0.146025</td>\n",
       "      <td>0.496705</td>\n",
       "      <td>0.496746</td>\n",
       "      <td>1</td>\n",
       "      <td>0</td>\n",
       "    </tr>\n",
       "    <tr>\n",
       "      <th>1</th>\n",
       "      <td>0</td>\n",
       "      <td>Property Damage Only Collision</td>\n",
       "      <td>AURORA BR BETWEEN RAYE ST AND BRIDGE WAY N</td>\n",
       "      <td>Sideswipe</td>\n",
       "      <td>2</td>\n",
       "      <td>2</td>\n",
       "      <td>Mid-Block (not related to intersection)</td>\n",
       "      <td>0</td>\n",
       "      <td>Raining</td>\n",
       "      <td>Wet</td>\n",
       "      <td>...</td>\n",
       "      <td>0</td>\n",
       "      <td>0.098051</td>\n",
       "      <td>0.067322</td>\n",
       "      <td>0.504132</td>\n",
       "      <td>0.459041</td>\n",
       "      <td>0.174641</td>\n",
       "      <td>0.496705</td>\n",
       "      <td>0.425335</td>\n",
       "      <td>1</td>\n",
       "      <td>0</td>\n",
       "    </tr>\n",
       "    <tr>\n",
       "      <th>2</th>\n",
       "      <td>0</td>\n",
       "      <td>Property Damage Only Collision</td>\n",
       "      <td>4TH AVE BETWEEN SENECA ST AND UNIVERSITY ST</td>\n",
       "      <td>Parked Car</td>\n",
       "      <td>4</td>\n",
       "      <td>3</td>\n",
       "      <td>Mid-Block (not related to intersection)</td>\n",
       "      <td>0</td>\n",
       "      <td>Overcast</td>\n",
       "      <td>Dry</td>\n",
       "      <td>...</td>\n",
       "      <td>0</td>\n",
       "      <td>0.252844</td>\n",
       "      <td>0.234055</td>\n",
       "      <td>0.111111</td>\n",
       "      <td>0.459041</td>\n",
       "      <td>0.146025</td>\n",
       "      <td>0.474433</td>\n",
       "      <td>0.496746</td>\n",
       "      <td>1</td>\n",
       "      <td>0</td>\n",
       "    </tr>\n",
       "    <tr>\n",
       "      <th>3</th>\n",
       "      <td>0</td>\n",
       "      <td>Property Damage Only Collision</td>\n",
       "      <td>2ND AVE BETWEEN MARION ST AND MADISON ST</td>\n",
       "      <td>Other</td>\n",
       "      <td>3</td>\n",
       "      <td>3</td>\n",
       "      <td>Mid-Block (not related to intersection)</td>\n",
       "      <td>0</td>\n",
       "      <td>Clear</td>\n",
       "      <td>Dry</td>\n",
       "      <td>...</td>\n",
       "      <td>0</td>\n",
       "      <td>0.124891</td>\n",
       "      <td>0.023905</td>\n",
       "      <td>0.315789</td>\n",
       "      <td>0.459041</td>\n",
       "      <td>0.585571</td>\n",
       "      <td>0.474433</td>\n",
       "      <td>0.496746</td>\n",
       "      <td>1</td>\n",
       "      <td>0</td>\n",
       "    </tr>\n",
       "    <tr>\n",
       "      <th>4</th>\n",
       "      <td>1</td>\n",
       "      <td>Injury Collision</td>\n",
       "      <td>SWIFT AVE S AND SWIFT AV OFF RP</td>\n",
       "      <td>Angles</td>\n",
       "      <td>2</td>\n",
       "      <td>2</td>\n",
       "      <td>At Intersection (intersection related)</td>\n",
       "      <td>0</td>\n",
       "      <td>Raining</td>\n",
       "      <td>Wet</td>\n",
       "      <td>...</td>\n",
       "      <td>1</td>\n",
       "      <td>0.182698</td>\n",
       "      <td>0.182698</td>\n",
       "      <td>0.421053</td>\n",
       "      <td>0.323175</td>\n",
       "      <td>0.174641</td>\n",
       "      <td>0.496705</td>\n",
       "      <td>0.496746</td>\n",
       "      <td>1</td>\n",
       "      <td>0</td>\n",
       "    </tr>\n",
       "  </tbody>\n",
       "</table>\n",
       "<p>5 rows × 25 columns</p>\n",
       "</div>"
      ],
      "text/plain": [
       "   SEVERITYCODE                    SEVERITYDESC  \\\n",
       "0             1                Injury Collision   \n",
       "1             0  Property Damage Only Collision   \n",
       "2             0  Property Damage Only Collision   \n",
       "3             0  Property Damage Only Collision   \n",
       "4             1                Injury Collision   \n",
       "\n",
       "                                      LOCATION COLLISIONTYPE  PERSONCOUNT  \\\n",
       "0                   5TH AVE NE AND NE 103RD ST        Angles            2   \n",
       "1   AURORA BR BETWEEN RAYE ST AND BRIDGE WAY N     Sideswipe            2   \n",
       "2  4TH AVE BETWEEN SENECA ST AND UNIVERSITY ST    Parked Car            4   \n",
       "3     2ND AVE BETWEEN MARION ST AND MADISON ST         Other            3   \n",
       "4              SWIFT AVE S AND SWIFT AV OFF RP        Angles            2   \n",
       "\n",
       "   VEHCOUNT                             JUNCTIONTYPE  UNDERINFL   WEATHER  \\\n",
       "0         2   At Intersection (intersection related)          0  Overcast   \n",
       "1         2  Mid-Block (not related to intersection)          0   Raining   \n",
       "2         3  Mid-Block (not related to intersection)          0  Overcast   \n",
       "3         3  Mid-Block (not related to intersection)          0     Clear   \n",
       "4         2   At Intersection (intersection related)          0   Raining   \n",
       "\n",
       "  ROADCOND  ... ADDR_Intersection  COLLISIONFREQ   ST_freq  LOCATION_ODDS  \\\n",
       "0      Wet  ...                 1       0.182698  0.182698       0.937500   \n",
       "1      Wet  ...                 0       0.098051  0.067322       0.504132   \n",
       "2      Dry  ...                 0       0.252844  0.234055       0.111111   \n",
       "3      Dry  ...                 0       0.124891  0.023905       0.315789   \n",
       "4      Wet  ...                 1       0.182698  0.182698       0.421053   \n",
       "\n",
       "   JUNCTION_FREQ  WEATHER_FREQ  ROAD_ODDS  LIGHT_ODDS  SPEED_0  SPEED_1  \n",
       "0       0.323175      0.146025   0.496705    0.496746        1        0  \n",
       "1       0.459041      0.174641   0.496705    0.425335        1        0  \n",
       "2       0.459041      0.146025   0.474433    0.496746        1        0  \n",
       "3       0.459041      0.585571   0.474433    0.496746        1        0  \n",
       "4       0.323175      0.174641   0.496705    0.496746        1        0  \n",
       "\n",
       "[5 rows x 25 columns]"
      ]
     },
     "execution_count": 59,
     "metadata": {},
     "output_type": "execute_result"
    }
   ],
   "source": [
    "col_df = pd.concat([col_df, pd.get_dummies(col_df['SPEEDING'], prefix = 'SPEED')], axis=1)\n",
    "col_df.head()"
   ]
  },
  {
   "cell_type": "code",
   "execution_count": 60,
   "metadata": {},
   "outputs": [
    {
     "data": {
      "text/plain": [
       "Index(['SEVERITYCODE', 'SEVERITYDESC', 'LOCATION', 'COLLISIONTYPE',\n",
       "       'PERSONCOUNT', 'VEHCOUNT', 'JUNCTIONTYPE', 'UNDERINFL', 'WEATHER',\n",
       "       'ROADCOND', 'LIGHTCOND', 'SPEEDING', 'ST_COLDESC', 'HITPARKEDCAR',\n",
       "       'ADDR_Block', 'ADDR_Intersection', 'COLLISIONFREQ', 'ST_freq',\n",
       "       'LOCATION_ODDS', 'JUNCTION_FREQ', 'WEATHER_FREQ', 'ROAD_ODDS',\n",
       "       'LIGHT_ODDS', 'SPEED_0', 'SPEED_1'],\n",
       "      dtype='object')"
      ]
     },
     "execution_count": 60,
     "metadata": {},
     "output_type": "execute_result"
    }
   ],
   "source": [
    "col_df.columns"
   ]
  },
  {
   "cell_type": "code",
   "execution_count": 61,
   "metadata": {},
   "outputs": [],
   "source": [
    "col_df.dropna(inplace=True)"
   ]
  },
  {
   "cell_type": "code",
   "execution_count": 62,
   "metadata": {},
   "outputs": [],
   "source": [
    "desc = col_df[['SEVERITYCODE', 'SEVERITYDESC', 'LOCATION', 'COLLISIONTYPE',\n",
    "       'PERSONCOUNT', 'VEHCOUNT', 'JUNCTIONTYPE', 'UNDERINFL', 'WEATHER',\n",
    "       'ROADCOND', 'LIGHTCOND', 'SPEEDING', 'ADDR_Block', 'ADDR_Intersection',\n",
    "       'COLLISIONFREQ', 'JUNCTION_FREQ', 'WEATHER_FREQ',\n",
    "       'ROAD_ODDS', 'LIGHT_ODDS', 'ST_freq', 'HITPARKEDCAR']].describe().loc[['count', 'mean', 'std', 'min', 'max']].T"
   ]
  },
  {
   "cell_type": "code",
   "execution_count": 63,
   "metadata": {},
   "outputs": [
    {
     "name": "stdout",
     "output_type": "stream",
     "text": [
      "                      count  mean   std   min    max\n",
      "SEVERITYCODE       182660.0  0.31  0.46  0.00   1.00\n",
      "PERSONCOUNT        182660.0  2.48  1.37  0.00  81.00\n",
      "VEHCOUNT           182660.0  1.97  0.56  0.00  12.00\n",
      "UNDERINFL          182660.0  0.05  0.22  0.00   1.00\n",
      "SPEEDING           182660.0  0.05  0.22  0.00   1.00\n",
      "ADDR_Block         182660.0  0.65  0.48  0.00   1.00\n",
      "ADDR_Intersection  182660.0  0.35  0.48  0.00   1.00\n",
      "COLLISIONFREQ      182660.0  0.16  0.07  0.01   0.25\n",
      "JUNCTION_FREQ      182660.0  0.34  0.14  0.00   0.46\n",
      "WEATHER_FREQ       182660.0  0.41  0.22  0.00   0.59\n",
      "ROAD_ODDS          182660.0  0.45  0.11  0.05   0.60\n",
      "LIGHT_ODDS         182660.0  0.45  0.11  0.05   0.57\n",
      "ST_freq            182660.0  0.12  0.08  0.00   0.23\n",
      "HITPARKEDCAR       182660.0  0.03  0.17  0.00   1.00\n"
     ]
    }
   ],
   "source": [
    "print(desc.round(2))"
   ]
  },
  {
   "cell_type": "code",
   "execution_count": 64,
   "metadata": {},
   "outputs": [
    {
     "data": {
      "text/html": [
       "<div>\n",
       "<style scoped>\n",
       "    .dataframe tbody tr th:only-of-type {\n",
       "        vertical-align: middle;\n",
       "    }\n",
       "\n",
       "    .dataframe tbody tr th {\n",
       "        vertical-align: top;\n",
       "    }\n",
       "\n",
       "    .dataframe thead th {\n",
       "        text-align: right;\n",
       "    }\n",
       "</style>\n",
       "<table border=\"1\" class=\"dataframe\">\n",
       "  <thead>\n",
       "    <tr style=\"text-align: right;\">\n",
       "      <th></th>\n",
       "      <th>PERSONCOUNT</th>\n",
       "      <th>VEHCOUNT</th>\n",
       "      <th>UNDERINFL</th>\n",
       "      <th>ADDR_Block</th>\n",
       "      <th>ADDR_Intersection</th>\n",
       "      <th>COLLISIONFREQ</th>\n",
       "      <th>LOCATION_ODDS</th>\n",
       "      <th>JUNCTION_FREQ</th>\n",
       "      <th>WEATHER_FREQ</th>\n",
       "      <th>ROAD_ODDS</th>\n",
       "      <th>LIGHT_ODDS</th>\n",
       "      <th>ST_freq</th>\n",
       "      <th>HITPARKEDCAR</th>\n",
       "    </tr>\n",
       "  </thead>\n",
       "  <tbody>\n",
       "    <tr>\n",
       "      <th>0</th>\n",
       "      <td>2</td>\n",
       "      <td>2</td>\n",
       "      <td>0</td>\n",
       "      <td>0</td>\n",
       "      <td>1</td>\n",
       "      <td>0.182698</td>\n",
       "      <td>0.937500</td>\n",
       "      <td>0.323175</td>\n",
       "      <td>0.146025</td>\n",
       "      <td>0.496705</td>\n",
       "      <td>0.496746</td>\n",
       "      <td>0.182698</td>\n",
       "      <td>0</td>\n",
       "    </tr>\n",
       "    <tr>\n",
       "      <th>1</th>\n",
       "      <td>2</td>\n",
       "      <td>2</td>\n",
       "      <td>0</td>\n",
       "      <td>1</td>\n",
       "      <td>0</td>\n",
       "      <td>0.098051</td>\n",
       "      <td>0.504132</td>\n",
       "      <td>0.459041</td>\n",
       "      <td>0.174641</td>\n",
       "      <td>0.496705</td>\n",
       "      <td>0.425335</td>\n",
       "      <td>0.067322</td>\n",
       "      <td>0</td>\n",
       "    </tr>\n",
       "    <tr>\n",
       "      <th>2</th>\n",
       "      <td>4</td>\n",
       "      <td>3</td>\n",
       "      <td>0</td>\n",
       "      <td>1</td>\n",
       "      <td>0</td>\n",
       "      <td>0.252844</td>\n",
       "      <td>0.111111</td>\n",
       "      <td>0.459041</td>\n",
       "      <td>0.146025</td>\n",
       "      <td>0.474433</td>\n",
       "      <td>0.496746</td>\n",
       "      <td>0.234055</td>\n",
       "      <td>0</td>\n",
       "    </tr>\n",
       "    <tr>\n",
       "      <th>3</th>\n",
       "      <td>3</td>\n",
       "      <td>3</td>\n",
       "      <td>0</td>\n",
       "      <td>1</td>\n",
       "      <td>0</td>\n",
       "      <td>0.124891</td>\n",
       "      <td>0.315789</td>\n",
       "      <td>0.459041</td>\n",
       "      <td>0.585571</td>\n",
       "      <td>0.474433</td>\n",
       "      <td>0.496746</td>\n",
       "      <td>0.023905</td>\n",
       "      <td>0</td>\n",
       "    </tr>\n",
       "    <tr>\n",
       "      <th>4</th>\n",
       "      <td>2</td>\n",
       "      <td>2</td>\n",
       "      <td>0</td>\n",
       "      <td>0</td>\n",
       "      <td>1</td>\n",
       "      <td>0.182698</td>\n",
       "      <td>0.421053</td>\n",
       "      <td>0.323175</td>\n",
       "      <td>0.174641</td>\n",
       "      <td>0.496705</td>\n",
       "      <td>0.496746</td>\n",
       "      <td>0.182698</td>\n",
       "      <td>0</td>\n",
       "    </tr>\n",
       "  </tbody>\n",
       "</table>\n",
       "</div>"
      ],
      "text/plain": [
       "   PERSONCOUNT  VEHCOUNT  UNDERINFL  ADDR_Block  ADDR_Intersection  \\\n",
       "0            2         2          0           0                  1   \n",
       "1            2         2          0           1                  0   \n",
       "2            4         3          0           1                  0   \n",
       "3            3         3          0           1                  0   \n",
       "4            2         2          0           0                  1   \n",
       "\n",
       "   COLLISIONFREQ  LOCATION_ODDS  JUNCTION_FREQ  WEATHER_FREQ  ROAD_ODDS  \\\n",
       "0       0.182698       0.937500       0.323175      0.146025   0.496705   \n",
       "1       0.098051       0.504132       0.459041      0.174641   0.496705   \n",
       "2       0.252844       0.111111       0.459041      0.146025   0.474433   \n",
       "3       0.124891       0.315789       0.459041      0.585571   0.474433   \n",
       "4       0.182698       0.421053       0.323175      0.174641   0.496705   \n",
       "\n",
       "   LIGHT_ODDS   ST_freq  HITPARKEDCAR  \n",
       "0    0.496746  0.182698             0  \n",
       "1    0.425335  0.067322             0  \n",
       "2    0.496746  0.234055             0  \n",
       "3    0.496746  0.023905             0  \n",
       "4    0.496746  0.182698             0  "
      ]
     },
     "execution_count": 64,
     "metadata": {},
     "output_type": "execute_result"
    }
   ],
   "source": [
    "X = col_df[['PERSONCOUNT', 'VEHCOUNT', 'UNDERINFL', 'ADDR_Block', 'ADDR_Intersection', 'COLLISIONFREQ', 'LOCATION_ODDS', 'JUNCTION_FREQ', 'WEATHER_FREQ', 'ROAD_ODDS', 'LIGHT_ODDS', 'ST_freq', 'HITPARKEDCAR']]\n",
    "y = col_df[['SEVERITYCODE']]\n",
    "X.head()"
   ]
  },
  {
   "cell_type": "code",
   "execution_count": 65,
   "metadata": {},
   "outputs": [],
   "source": [
    "import matplotlib.pyplot as plt"
   ]
  },
  {
   "cell_type": "code",
   "execution_count": 66,
   "metadata": {},
   "outputs": [],
   "source": [
    "X = X.values\n",
    "y = y.values"
   ]
  },
  {
   "cell_type": "code",
   "execution_count": 67,
   "metadata": {},
   "outputs": [],
   "source": [
    "from sklearn.preprocessing import PolynomialFeatures\n",
    "Xpoly = PolynomialFeatures(degree=3).fit_transform(X)"
   ]
  },
  {
   "cell_type": "code",
   "execution_count": 68,
   "metadata": {},
   "outputs": [],
   "source": [
    "from sklearn import preprocessing\n",
    "X= preprocessing.StandardScaler().fit(X).transform(X)\n",
    "Xpoly = preprocessing.StandardScaler().fit(Xpoly).transform(Xpoly)"
   ]
  },
  {
   "cell_type": "code",
   "execution_count": 69,
   "metadata": {},
   "outputs": [
    {
     "name": "stderr",
     "output_type": "stream",
     "text": [
      "/home/jupyterlab/conda/envs/python/lib/python3.6/site-packages/sklearn/feature_selection/univariate_selection.py:299: RuntimeWarning: invalid value encountered in true_divide\n",
      "  corr /= X_norms\n"
     ]
    },
    {
     "name": "stdout",
     "output_type": "stream",
     "text": [
      "(182660, 13)\n",
      "[[ 0.31743298 -1.14327471 -0.89992903  0.12561255 -1.14327471 -0.89992903\n",
      "  -0.93262733 -0.93074138 -0.77221866 -0.76640539 -0.71439925 -0.05017157\n",
      "  -0.03665753]\n",
      " [-0.8851484  -0.16821311 -0.17230113 -0.97569311 -0.16821311 -0.17230113\n",
      "  -0.54829215  0.05229338 -0.48681805 -0.01287923 -0.50541587 -0.92862907\n",
      "  -0.65413848]\n",
      " [ 1.31400727  1.37111516  1.62976955  1.54145542  1.37111516  1.62976955\n",
      "   1.62308092  1.60420886  1.78645502  1.85333207  1.81158489  1.66502746\n",
      "   1.76133674]\n",
      " [-0.50382567  0.0986988  -0.64155478 -0.69838602  0.0986988  -0.64155478\n",
      "  -0.30907816  0.32138785 -0.64313387 -0.49883489 -0.68804859 -0.75732108\n",
      "  -0.38803245]\n",
      " [ 0.31743298 -1.14327471 -0.89992903  0.12561255 -1.14327471 -0.89992903\n",
      "  -0.93262733 -0.93074138 -0.77221866 -0.76640539 -0.71439925 -0.05017157\n",
      "  -0.03665753]]\n"
     ]
    }
   ],
   "source": [
    "Xpoly_new = SelectKBest(f_regression, k=13).fit_transform(Xpoly, y.ravel())\n",
    "print(Xpoly_new.shape)\n",
    "print(Xpoly_new[0:5])"
   ]
  },
  {
   "cell_type": "code",
   "execution_count": 70,
   "metadata": {},
   "outputs": [
    {
     "name": "stdout",
     "output_type": "stream",
     "text": [
      "Size of training set:  (127862, 13)\n",
      "Size of test set:  (54798, 13)\n",
      "Size of training poly:  (127862, 1)\n"
     ]
    }
   ],
   "source": [
    "from sklearn.model_selection import train_test_split\n",
    "x_train, x_test, y_train, y_test = train_test_split(X, y, test_size = 0.3, random_state=4)\n",
    "xp_train, xp_test, y_train, y_test = train_test_split(Xpoly, y, test_size = 0.3, random_state=4)"
   ]
  },
  {
   "cell_type": "code",
   "execution_count": 71,
   "metadata": {},
   "outputs": [],
   "source": [
    "xp_trainnew, xp_testnew, y_train, y_test = train_test_split(Xpoly_new, y, test_size = 0.3, random_state=4)"
   ]
  },
  {
   "cell_type": "code",
   "execution_count": 72,
   "metadata": {},
   "outputs": [
    {
     "name": "stdout",
     "output_type": "stream",
     "text": [
      "The dimension of the linear training set is: (127862, 13)\n",
      "The dimension of the linear test set is: (54798, 13)\n",
      "The dimension of the polynomial training set is: (127862, 560)\n",
      "The dimension of the polynomial tesr set is: (54798, 560)\n"
     ]
    }
   ],
   "source": [
    "print('The dimension of the linear training set is:', x_train.shape)\n",
    "print('The dimension of the linear test set is:', x_test.shape)\n",
    "print('The dimension of the polynomial training set is:', xp_train.shape)\n",
    "print('The dimension of the polynomial tesr set is:', xp_test.shape)"
   ]
  },
  {
   "cell_type": "code",
   "execution_count": 47,
   "metadata": {},
   "outputs": [
    {
     "data": {
      "text/plain": [
       "array([1, 0, 0, 0, 1])"
      ]
     },
     "execution_count": 47,
     "metadata": {},
     "output_type": "execute_result"
    }
   ],
   "source": [
    "y.flatten()[0:5]"
   ]
  },
  {
   "cell_type": "markdown",
   "metadata": {},
   "source": [
    "# Machine Learning Algorithm <a name=\"ML\"></a>"
   ]
  },
  {
   "cell_type": "markdown",
   "metadata": {},
   "source": [
    "To predict the severity of accidents, I employ 3 supervised machine learning algorithm. The models are supervised because the target labels are known as either accident causing property damage and accidents causing injury as 0 and 1 respectively. As opposed to regression analysis used in cases of continuous target, I use these classification models that are appropriate for discrete target labels. The three machine learning algorithms are K-Nearest Neighbour (KNN), Decision Tree classification and Logistic model."
   ]
  },
  {
   "cell_type": "markdown",
   "metadata": {},
   "source": [
    "## K-Nearest Neighbour"
   ]
  },
  {
   "cell_type": "code",
   "execution_count": 48,
   "metadata": {},
   "outputs": [
    {
     "data": {
      "image/png": "[encoded data removed]",
      "text/plain": [
       "<Figure size 432x288 with 1 Axes>"
      ]
     },
     "metadata": {
      "needs_background": "light"
     },
     "output_type": "display_data"
    }
   ],
   "source": [
    "from sklearn.neighbors import KNeighborsClassifier\n",
    "from sklearn import metrics\n",
    "\n",
    "knum = list(range(15, 30))\n",
    "err_val=[]\n",
    "\n",
    "for k in knum:\n",
    "    k_near = KNeighborsClassifier(n_neighbors = k)\n",
    "    k_near.fit(x_train, y_train.flatten())\n",
    "    err_val.append(metrics.accuracy_score(y_test, k_near.predict(x_test)))\n",
    "    \n",
    "plt.plot(knum, err_val, 'b')\n",
    "plt.title(\"Multiple Regression Accuracy Plot\")\n",
    "plt.ylabel('Accuracy ')\n",
    "plt.xlabel('Number of Nabors (K)')\n",
    "plt.tight_layout()\n",
    "#plt.show()\n",
    "plt.savefig('KNN.jpg', bbox_inches = 'tight')"
   ]
  },
  {
   "cell_type": "code",
   "execution_count": 49,
   "metadata": {},
   "outputs": [
    {
     "data": {
      "image/png": "[encoded data removed]",
      "text/plain": [
       "<Figure size 432x288 with 1 Axes>"
      ]
     },
     "metadata": {
      "needs_background": "light"
     },
     "output_type": "display_data"
    }
   ],
   "source": [
    "knum = list(range(15, 30))\n",
    "err_val=[]\n",
    "\n",
    "for k in knum:\n",
    "    k_nearpoly = KNeighborsClassifier(n_neighbors = k)\n",
    "    k_nearpoly.fit(xp_trainnew, y_train.flatten())\n",
    "    err_val.append(metrics.accuracy_score(y_test, k_nearpoly.predict(xp_testnew)))\n",
    "    \n",
    "plt.plot(knum, err_val, 'b')\n",
    "plt.title(\"Polynomial Accuracy Plot\")\n",
    "plt.ylabel('Accuracy ')\n",
    "plt.xlabel('Number of Nabors (K)')\n",
    "plt.tight_layout()\n",
    "#plt.show()\n",
    "plt.savefig('kNN_poly.jpg', bbox_inches = 'tight')"
   ]
  },
  {
   "cell_type": "markdown",
   "metadata": {},
   "source": [
    "## Decision Tree"
   ]
  },
  {
   "cell_type": "code",
   "execution_count": 50,
   "metadata": {},
   "outputs": [
    {
     "name": "stdout",
     "output_type": "stream",
     "text": [
      "R2 in linear regression 0.76\n",
      "R2 for polynomial features 0.76\n"
     ]
    }
   ],
   "source": [
    "from sklearn.tree import DecisionTreeClassifier\n",
    "desTree1 = DecisionTreeClassifier(criterion=\"entropy\", max_depth = 20)\n",
    "desTree2 = DecisionTreeClassifier(criterion=\"entropy\", max_depth = 20)\n",
    "\n",
    "desTree1.fit(x_train, y_train)\n",
    "y_hat = desTree1.predict(x_test)\n",
    "\n",
    "desTree2.fit(xp_train, y_train)\n",
    "yp_hat = desTree2.predict(xp_test)\n",
    "\n",
    "print('R2 in linear regression %.2f' % metrics.accuracy_score(y_test, y_hat))\n",
    "print('R2 for polynomial features %.2f' % metrics.accuracy_score(y_test, yp_hat))"
   ]
  },
  {
   "cell_type": "markdown",
   "metadata": {},
   "source": [
    "## Logistic Regression"
   ]
  },
  {
   "cell_type": "code",
   "execution_count": 51,
   "metadata": {},
   "outputs": [],
   "source": [
    "from sklearn.linear_model import LogisticRegression\n",
    "from sklearn.metrics import jaccard_similarity_score"
   ]
  },
  {
   "cell_type": "code",
   "execution_count": 52,
   "metadata": {},
   "outputs": [
    {
     "name": "stdout",
     "output_type": "stream",
     "text": [
      "Linear regression 0.72\n",
      "Polynomial features 0.75\n"
     ]
    }
   ],
   "source": [
    "LR1 = LogisticRegression(C=0.01, solver='liblinear').fit(x_train,y_train.flatten())\n",
    "LR2 = LogisticRegression(C=0.01, solver='liblinear').fit(xp_train,y_train.flatten())\n",
    "\n",
    "print('Linear regression %.2f' % jaccard_similarity_score(y_test, LR1.predict(x_test)))\n",
    "print('Polynomial features %.2f' % jaccard_similarity_score(y_test, LR2.predict(xp_test)))"
   ]
  },
  {
   "cell_type": "markdown",
   "metadata": {},
   "source": [
    "# Model Evaluation <a name=\"ME\"></a>"
   ]
  },
  {
   "cell_type": "code",
   "execution_count": 53,
   "metadata": {},
   "outputs": [],
   "source": [
    "from sklearn.metrics import jaccard_similarity_score\n",
    "from sklearn.metrics import f1_score\n",
    "from sklearn.metrics import log_loss"
   ]
  },
  {
   "cell_type": "markdown",
   "metadata": {},
   "source": [
    "## Evaluation of linear features KNN classifier"
   ]
  },
  {
   "cell_type": "code",
   "execution_count": 54,
   "metadata": {},
   "outputs": [
    {
     "name": "stdout",
     "output_type": "stream",
     "text": [
      "Jaccard for KNN 0.76\n",
      "Jaccard for DecisionTree 0.76\n",
      "Jaccard for logit 0.72\n"
     ]
    }
   ],
   "source": [
    "print('Jaccard for KNN %.2f' % jaccard_similarity_score(y_test, k_near.predict(x_test)))\n",
    "print('Jaccard for DecisionTree %.2f' % jaccard_similarity_score(y_test, desTree1.predict(x_test)))\n",
    "print('Jaccard for logit %.2f' % jaccard_similarity_score(y_test, LR1.predict(x_test)))"
   ]
  },
  {
   "cell_type": "code",
   "execution_count": 55,
   "metadata": {},
   "outputs": [
    {
     "name": "stdout",
     "output_type": "stream",
     "text": [
      "f1 score for KNN 0.75\n",
      "f1 score for Decision Tree 0.74\n",
      "f1 score for logit 0.68\n"
     ]
    }
   ],
   "source": [
    "print ('f1 score for KNN %.2f' % f1_score(y_test, k_near.predict(x_test), average='weighted'))\n",
    "print ('f1 score for Decision Tree %.2f' % f1_score(y_test, desTree1.predict(x_test), average='weighted'))\n",
    "print ('f1 score for logit %.2f' % f1_score(y_test, LR1.predict(x_test), average='weighted'))"
   ]
  },
  {
   "cell_type": "code",
   "execution_count": 56,
   "metadata": {},
   "outputs": [
    {
     "name": "stdout",
     "output_type": "stream",
     "text": [
      "log loss for logit is 0.55\n"
     ]
    }
   ],
   "source": [
    "print('log loss for logit is %.2f' % log_loss(y_test, LR1.predict_proba(x_test)))"
   ]
  },
  {
   "cell_type": "markdown",
   "metadata": {},
   "source": [
    "## Evaluation of polynomial features KNN classifier"
   ]
  },
  {
   "cell_type": "code",
   "execution_count": 57,
   "metadata": {},
   "outputs": [
    {
     "name": "stdout",
     "output_type": "stream",
     "text": [
      "Jaccard for KNN 0.74\n",
      "Jaccard for DecisionTree 0.76\n",
      "Jaccard for logit 0.75\n"
     ]
    }
   ],
   "source": [
    "print('Jaccard for KNN %.2f' % jaccard_similarity_score(y_test, k_nearpoly.predict(xp_testnew)))\n",
    "print('Jaccard for DecisionTree %.2f' % jaccard_similarity_score(y_test, desTree2.predict(xp_test)))\n",
    "print('Jaccard for logit %.2f' % jaccard_similarity_score(y_test, LR2.predict(xp_test)))"
   ]
  },
  {
   "cell_type": "code",
   "execution_count": 58,
   "metadata": {},
   "outputs": [
    {
     "name": "stdout",
     "output_type": "stream",
     "text": [
      "f1 score for KNN 0.68\n",
      "f1 score for Decision Tree 0.74\n",
      "f1 score for logit 0.71\n"
     ]
    }
   ],
   "source": [
    "print ('f1 score for KNN %.2f' % f1_score(y_test, k_nearpoly.predict(xp_testnew), average='weighted'))\n",
    "print ('f1 score for Decision Tree %.2f' % f1_score(y_test, desTree2.predict(xp_test), average='weighted'))\n",
    "print ('f1 score for logit %.2f' % f1_score(y_test, LR2.predict(xp_test), average='weighted'))"
   ]
  },
  {
   "cell_type": "code",
   "execution_count": 59,
   "metadata": {},
   "outputs": [
    {
     "name": "stdout",
     "output_type": "stream",
     "text": [
      "log loss for logit is 0.50\n"
     ]
    }
   ],
   "source": [
    "print('log loss for logit is %.2f' % log_loss(y_test, LR2.predict_proba(xp_test)))"
   ]
  },
  {
   "cell_type": "markdown",
   "metadata": {},
   "source": [
    "## Report "
   ]
  },
  {
   "cell_type": "markdown",
   "metadata": {},
   "source": [
    "| Algorithm            | Jaccard  | F1-score | LogLoss |\n",
    "|----------------------|----------|----------|---------|\n",
    "| **KNN** **(Linear)** | **0.76** | **0.75** | **NA**  |\n",
    "|                (Poly)| 0.74     | 0.68     | NA      |\n",
    "| Decision Tree(Linear)| 0.76     | 0.74     | NA      |\n",
    "|              (Poly)  | 0.76     | 0.74     | NA      |\n",
    "| Logistic     (Linear)| 0.72     | 0.68     | 0.55    |\n",
    "|               (Poly) | 0.75     | 0.71     | 0.50    |"
   ]
  },
  {
   "cell_type": "markdown",
   "metadata": {},
   "source": [
    "# Discussion <a name=\"discuss\"></a>\n",
    "\n",
    "The research provides some insights into the predictors of the severity of car accidents. The data exploration shows that most accidents in Seattle occur in clear weather conditions. Majority of the accidents occurred at night in the dark and the absence of street lights. The accident causing effect of street light is even more prominent when drivers are speeding and under the influence of psychoactive substances. Drivers speeding under the influence of drugs in a dark street contributes substantially to the occurrence of accidents that results in injury.\n",
    "\n",
    "The research also created a model that predicts car accidents severity using the available features collected from the SDOT dataset. The machine learning model that best predicts accident severity is the K-Nearest Neighbour with K=20 and linear features which excludes interactive effects."
   ]
  },
  {
   "cell_type": "markdown",
   "metadata": {},
   "source": [
    "# Policy Recommendation <a name=\"policy\"></a>\n",
    "From the discussion and the results I give the following recommendations to the government. First, the need to provide street lights in prominent roads seems essential to reduce the incident of vehicular accidents in general. Also the government needs to educate the public on the dangers of speeding and using psychoactive substances while driving. An increase in fines and the number of law enforcement officers checking driver's state of consciousness while driving will decrease these behaviour on the streets of Seattle."
   ]
  },
  {
   "cell_type": "markdown",
   "metadata": {},
   "source": [
    "# Conclusion <a name=\"conclusion\"></a>\n",
    "This project uses machine learning algorithms to predict the severity of car accident. More specifically, I distinguish between accidents that destroy properties and accidents that lead to injury. Some of the features of interests are weather condition, driving under the influence, the type of address location (block, intersection or alley), collision type (angle, sideways, rear ended etc.), location of the accidents, the type of junction, road condition, the light condition, speeding, the number of people and the number of vehicle involved in the accident. I conduct an exploratory data analysis to determine the important features that can distinguish between accident severity types. Importantly, I find that speeding under the influence of psychoactive substances in dark road conditions contributed the most to accidents that result in injury. After the EDA, I specify three machine learning models | K-nearest neighbour, Decision tree and Logistic model. The KNN with linear features and k=20 performed best among other specifications in predicting accident severity in Seattle.\n"
   ]
  },
  {
   "cell_type": "code",
   "execution_count": null,
   "metadata": {},
   "outputs": [],
   "source": []
  }
 ],
 "metadata": {
  "kernelspec": {
   "display_name": "Python",
   "language": "python",
   "name": "conda-env-python-py"
  },
  "language_info": {
   "codemirror_mode": {
    "name": "ipython",
    "version": 3
   },
   "file_extension": ".py",
   "mimetype": "text/x-python",
   "name": "python",
   "nbconvert_exporter": "python",
   "pygments_lexer": "ipython3",
   "version": "3.6.11"
  }
 },
 "nbformat": 4,
 "nbformat_minor": 4
}
